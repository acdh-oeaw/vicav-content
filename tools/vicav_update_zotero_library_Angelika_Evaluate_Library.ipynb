{
 "cells": [
  {
   "cell_type": "markdown",
   "metadata": {},
   "source": [
    "# VICAV Bibliografie: Zotero Update"
   ]
  },
  {
   "cell_type": "code",
   "execution_count": 1,
   "metadata": {},
   "outputs": [
    {
     "name": "stdout",
     "output_type": "stream",
     "text": [
      "Untitled.ipynb\r\n",
      "bibl_data.json\r\n",
      "testing-zotero-down-up.ipynb\r\n",
      "vicav-zotero-bib.ipynb\r\n",
      "vicav_biblio_tei_zotero.xml\r\n",
      "\u001b[34mvicav_trash_20220523\u001b[m\u001b[m\r\n",
      "vicav_update_zotero_library_Angelika.ipynb\r\n",
      "vicav_update_zotero_library_Angelika_Evaluate_Library.ipynb\r\n",
      "vicav_update_zotero_library_Angelika_Secondrun.ipynb\r\n"
     ]
    }
   ],
   "source": [
    "!ls"
   ]
  },
  {
   "cell_type": "markdown",
   "metadata": {},
   "source": [
    "## Access Zotero-API"
   ]
  },
  {
   "cell_type": "code",
   "execution_count": 2,
   "metadata": {},
   "outputs": [],
   "source": [
    "import requests\n",
    "import json"
   ]
  },
  {
   "cell_type": "code",
   "execution_count": 3,
   "metadata": {},
   "outputs": [],
   "source": [
    "api_token = \"DQfd2PYuoDza5S0zMQdjzU6P\""
   ]
  },
  {
   "cell_type": "code",
   "execution_count": 4,
   "metadata": {},
   "outputs": [],
   "source": [
    "#Group-id of Vicav library\n",
    "group_id = \"2165756\""
   ]
  },
  {
   "cell_type": "code",
   "execution_count": 5,
   "metadata": {},
   "outputs": [],
   "source": [
    "#function to get the value of the \"extra\" field\n",
    "def get_extra_field(zotero_id):\n",
    "    request_url = \"https://api.zotero.org/groups/\" + group_id + \"/items/\" + zotero_id\n",
    "    response = requests.get(request_url)\n",
    "    if response.status_code == 200:\n",
    "        parsed = json.loads(response.text)\n",
    "        \n",
    "        extra = parsed[\"data\"][\"extra\"]\n",
    "        \n",
    "        if extra.startswith(\"(biblid:\"):\n",
    "            extra = extra.split(\"(biblid:\")[1].split(\")\")[0]\n",
    "    else: \n",
    "        extra = None        \n",
    "    \n",
    "    return extra"
   ]
  },
  {
   "cell_type": "markdown",
   "metadata": {},
   "source": [
    "## Read all items in the library"
   ]
  },
  {
   "cell_type": "code",
   "execution_count": 17,
   "metadata": {},
   "outputs": [],
   "source": [
    "def get_items(group_id,limit,start):\n",
    "    \"\"\"\n",
    "    get zotero-items of a group, can download max.100 items in one run, need to set start and iterate to download whole library\n",
    "    \"\"\"\n",
    "    request_url = \"https://api.zotero.org/groups/\" + group_id + \"/items/\" + \"?limit=\" + limit + \"&start=\" + start\n",
    "    response = requests.get(request_url)\n",
    "    if response.status_code == 200:\n",
    "        parsed = json.loads(response.text)\n",
    "        headers = response.headers\n",
    "        \n",
    "    return parsed,headers\n",
    "\n",
    "## https://api.zotero.org/groups/2165756/items/"
   ]
  },
  {
   "cell_type": "code",
   "execution_count": 20,
   "metadata": {},
   "outputs": [],
   "source": [
    "all_items=get_items(\"2165756\",\"20\",\"3\")[0]"
   ]
  },
  {
   "cell_type": "code",
   "execution_count": 21,
   "metadata": {},
   "outputs": [
    {
     "data": {
      "text/plain": [
       "20"
      ]
     },
     "execution_count": 21,
     "metadata": {},
     "output_type": "execute_result"
    }
   ],
   "source": [
    "len(all_items)"
   ]
  },
  {
   "cell_type": "code",
   "execution_count": 12,
   "metadata": {},
   "outputs": [],
   "source": [
    "def total_number_items(group_id):\n",
    "    \"\"\"\n",
    "    get the number of total items of response header\n",
    "    \"\"\"\n",
    "    request_url = \"https://api.zotero.org/groups/\" + group_id + \"/items/\"\n",
    "    response = requests.get(request_url)\n",
    "    \n",
    "    return response.headers[\"Total-Results\"]"
   ]
  },
  {
   "cell_type": "code",
   "execution_count": 47,
   "metadata": {},
   "outputs": [
    {
     "data": {
      "text/plain": [
       "'6081'"
      ]
     },
     "execution_count": 47,
     "metadata": {},
     "output_type": "execute_result"
    }
   ],
   "source": [
    "total_number_items(\"2165756\")"
   ]
  },
  {
   "cell_type": "code",
   "execution_count": 14,
   "metadata": {},
   "outputs": [],
   "source": [
    "def get_groupheaders(group_id):\n",
    "    request_url = \"https://api.zotero.org/groups/\" + group_id + \"/items/\"\n",
    "    response = requests.get(request_url)\n",
    "    \n",
    "    return response.headers\n",
    "    "
   ]
  },
  {
   "cell_type": "code",
   "execution_count": 15,
   "metadata": {},
   "outputs": [
    {
     "data": {
      "text/plain": [
       "'https://api.zotero.org/groups/2165756/items/?start=25'"
      ]
     },
     "execution_count": 15,
     "metadata": {},
     "output_type": "execute_result"
    }
   ],
   "source": [
    "get_groupheaders(\"2165756\")[\"Link\"].split('; rel=\"next\",')[0].replace(\"<\",\"\").replace(\">\",\"\")"
   ]
  },
  {
   "cell_type": "code",
   "execution_count": 38,
   "metadata": {},
   "outputs": [],
   "source": [
    "def get_links_from_headers(headers):\n",
    "    link_list = headers[\"Link\"].split(\",\")\n",
    "    links = {}\n",
    "    for link_item in link_list:\n",
    "        #print(link_item)\n",
    "        link_type = link_item.split('; rel=\"')[1].replace('\"','').strip()\n",
    "        link_value = link_item.split('; rel=\"')[0].replace(\"<\",\"\").replace(\">\",\"\").strip()\n",
    "        links[link_type] = link_value\n",
    "    \n",
    "    return links\n",
    "\n",
    "        \n",
    "        "
   ]
  },
  {
   "cell_type": "code",
   "execution_count": 40,
   "metadata": {},
   "outputs": [
    {
     "data": {
      "text/plain": [
       "'https://api.zotero.org/groups/2165756/items/?limit=100&start=101'"
      ]
     },
     "execution_count": 40,
     "metadata": {},
     "output_type": "execute_result"
    }
   ],
   "source": [
    "get_links_from_headers(first_round[1])[\"next\"]"
   ]
  },
  {
   "cell_type": "code",
   "execution_count": 44,
   "metadata": {},
   "outputs": [
    {
     "data": {
      "text/plain": [
       "{'first': 'https://api.zotero.org/groups/2165756/items/?limit=50',\n",
       " 'prev': 'https://api.zotero.org/groups/2165756/items/?limit=50',\n",
       " 'next': 'https://api.zotero.org/groups/2165756/items/?limit=50&start=100',\n",
       " 'last': 'https://api.zotero.org/groups/2165756/items/?limit=50&start=6050',\n",
       " 'alternate': 'https://www.zotero.org/groups/2165756/items/'}"
      ]
     },
     "execution_count": 44,
     "metadata": {},
     "output_type": "execute_result"
    }
   ],
   "source": [
    "get_links_from_headers(first_round[1])"
   ]
  },
  {
   "cell_type": "code",
   "execution_count": 43,
   "metadata": {},
   "outputs": [
    {
     "name": "stdout",
     "output_type": "stream",
     "text": [
      "https://api.zotero.org/groups/2165756/items/?limit=50&start=100\n"
     ]
    }
   ],
   "source": [
    "#test\n",
    "allitems=[]\n",
    "limit=\"50\"\n",
    "start=\"50\"\n",
    "#group_id\n",
    "first_round=get_items(group_id,limit,start)\n",
    "# print(first_round[0])\n",
    "# print(first_round[1])\n",
    "allitems=allitems+first_round[0]\n",
    "next_url = get_links_from_headers(first_round[1])[\"next\"]\n",
    "print(next_url)\n"
   ]
  },
  {
   "cell_type": "code",
   "execution_count": 51,
   "metadata": {},
   "outputs": [
    {
     "name": "stdout",
     "output_type": "stream",
     "text": [
      "https://api.zotero.org/groups/2165756/items/?limit=100&start=100\n",
      "https://api.zotero.org/groups/2165756/items/?limit=100&start=200\n",
      "https://api.zotero.org/groups/2165756/items/?limit=100&start=300\n",
      "https://api.zotero.org/groups/2165756/items/?limit=100&start=400\n",
      "https://api.zotero.org/groups/2165756/items/?limit=100&start=500\n",
      "https://api.zotero.org/groups/2165756/items/?limit=100&start=600\n",
      "https://api.zotero.org/groups/2165756/items/?limit=100&start=700\n",
      "https://api.zotero.org/groups/2165756/items/?limit=100&start=800\n",
      "https://api.zotero.org/groups/2165756/items/?limit=100&start=900\n",
      "https://api.zotero.org/groups/2165756/items/?limit=100&start=1000\n",
      "https://api.zotero.org/groups/2165756/items/?limit=100&start=1100\n",
      "https://api.zotero.org/groups/2165756/items/?limit=100&start=1200\n",
      "https://api.zotero.org/groups/2165756/items/?limit=100&start=1300\n",
      "https://api.zotero.org/groups/2165756/items/?limit=100&start=1400\n",
      "https://api.zotero.org/groups/2165756/items/?limit=100&start=1500\n",
      "https://api.zotero.org/groups/2165756/items/?limit=100&start=1600\n",
      "https://api.zotero.org/groups/2165756/items/?limit=100&start=1700\n",
      "https://api.zotero.org/groups/2165756/items/?limit=100&start=1800\n",
      "https://api.zotero.org/groups/2165756/items/?limit=100&start=1900\n",
      "https://api.zotero.org/groups/2165756/items/?limit=100&start=2000\n",
      "https://api.zotero.org/groups/2165756/items/?limit=100&start=2100\n",
      "https://api.zotero.org/groups/2165756/items/?limit=100&start=2200\n",
      "https://api.zotero.org/groups/2165756/items/?limit=100&start=2300\n",
      "https://api.zotero.org/groups/2165756/items/?limit=100&start=2400\n",
      "https://api.zotero.org/groups/2165756/items/?limit=100&start=2500\n",
      "https://api.zotero.org/groups/2165756/items/?limit=100&start=2600\n",
      "https://api.zotero.org/groups/2165756/items/?limit=100&start=2700\n",
      "https://api.zotero.org/groups/2165756/items/?limit=100&start=2800\n",
      "https://api.zotero.org/groups/2165756/items/?limit=100&start=2900\n",
      "https://api.zotero.org/groups/2165756/items/?limit=100&start=3000\n",
      "https://api.zotero.org/groups/2165756/items/?limit=100&start=3100\n",
      "https://api.zotero.org/groups/2165756/items/?limit=100&start=3200\n",
      "https://api.zotero.org/groups/2165756/items/?limit=100&start=3300\n",
      "https://api.zotero.org/groups/2165756/items/?limit=100&start=3400\n",
      "https://api.zotero.org/groups/2165756/items/?limit=100&start=3500\n",
      "https://api.zotero.org/groups/2165756/items/?limit=100&start=3600\n",
      "https://api.zotero.org/groups/2165756/items/?limit=100&start=3700\n",
      "https://api.zotero.org/groups/2165756/items/?limit=100&start=3800\n",
      "https://api.zotero.org/groups/2165756/items/?limit=100&start=3900\n",
      "https://api.zotero.org/groups/2165756/items/?limit=100&start=4000\n",
      "https://api.zotero.org/groups/2165756/items/?limit=100&start=4100\n",
      "https://api.zotero.org/groups/2165756/items/?limit=100&start=4200\n",
      "https://api.zotero.org/groups/2165756/items/?limit=100&start=4300\n",
      "https://api.zotero.org/groups/2165756/items/?limit=100&start=4400\n",
      "https://api.zotero.org/groups/2165756/items/?limit=100&start=4500\n",
      "https://api.zotero.org/groups/2165756/items/?limit=100&start=4600\n",
      "https://api.zotero.org/groups/2165756/items/?limit=100&start=4700\n",
      "https://api.zotero.org/groups/2165756/items/?limit=100&start=4800\n",
      "https://api.zotero.org/groups/2165756/items/?limit=100&start=4900\n",
      "https://api.zotero.org/groups/2165756/items/?limit=100&start=5000\n",
      "https://api.zotero.org/groups/2165756/items/?limit=100&start=5100\n",
      "https://api.zotero.org/groups/2165756/items/?limit=100&start=5200\n",
      "https://api.zotero.org/groups/2165756/items/?limit=100&start=5300\n",
      "https://api.zotero.org/groups/2165756/items/?limit=100&start=5400\n",
      "https://api.zotero.org/groups/2165756/items/?limit=100&start=5500\n",
      "https://api.zotero.org/groups/2165756/items/?limit=100&start=5600\n",
      "https://api.zotero.org/groups/2165756/items/?limit=100&start=5700\n",
      "https://api.zotero.org/groups/2165756/items/?limit=100&start=5800\n",
      "https://api.zotero.org/groups/2165756/items/?limit=100&start=5900\n",
      "https://api.zotero.org/groups/2165756/items/?limit=100&start=6000\n",
      "Done!\n"
     ]
    }
   ],
   "source": [
    "allitems=[]\n",
    "limit=\"100\"\n",
    "start=\"0\"\n",
    "first_round=get_items(group_id,limit,start)\n",
    "allitems=allitems+first_round[0]\n",
    "next_url = get_links_from_headers(first_round[1])[\"next\"]\n",
    "last_url = get_links_from_headers(first_round[1])[\"last\"]\n",
    "while next_url != last_url:\n",
    "    print(next_url)\n",
    "    response = requests.get(next_url)\n",
    "    if response.status_code == 200:\n",
    "        parsed = json.loads(response.text)\n",
    "        headers = response.headers\n",
    "        \n",
    "        allitems=allitems + parsed\n",
    "        urls = get_links_from_headers(headers)\n",
    "        if \"next\" in urls:\n",
    "            next_url = urls[\"next\"]\n",
    "        else:\n",
    "            break\n",
    "    else:\n",
    "        break\n",
    "print(last_url)\n",
    "response = requests.get(last_url)\n",
    "if response.status_code == 200:\n",
    "    parsed = json.loads(response.text)\n",
    "    allitems=allitems + parsed\n",
    "print(\"Done!\")"
   ]
  },
  {
   "cell_type": "code",
   "execution_count": 54,
   "metadata": {},
   "outputs": [
    {
     "data": {
      "text/plain": [
       "6081"
      ]
     },
     "execution_count": 54,
     "metadata": {},
     "output_type": "execute_result"
    }
   ],
   "source": [
    "len(allitems)"
   ]
  },
  {
   "cell_type": "code",
   "execution_count": 53,
   "metadata": {},
   "outputs": [
    {
     "data": {
      "text/plain": [
       "{'key': 'JAAFVQTT',\n",
       " 'version': 17033,\n",
       " 'library': {'type': 'group',\n",
       "  'id': 2165756,\n",
       "  'name': 'VICAV',\n",
       "  'links': {'alternate': {'href': 'https://www.zotero.org/groups/vicav',\n",
       "    'type': 'text/html'}}},\n",
       " 'links': {'self': {'href': 'https://api.zotero.org/groups/2165756/items/JAAFVQTT',\n",
       "   'type': 'application/json'},\n",
       "  'alternate': {'href': 'https://www.zotero.org/groups/vicav/items/JAAFVQTT',\n",
       "   'type': 'text/html'}},\n",
       " 'meta': {'createdByUser': {'id': 4438625,\n",
       "   'username': 'Terlan',\n",
       "   'name': '',\n",
       "   'links': {'alternate': {'href': 'https://www.zotero.org/terlan',\n",
       "     'type': 'text/html'}}},\n",
       "  'lastModifiedByUser': {'id': 6961982,\n",
       "   'username': 'anairiarted',\n",
       "   'name': '',\n",
       "   'links': {'alternate': {'href': 'https://www.zotero.org/anairiarted',\n",
       "     'type': 'text/html'}}},\n",
       "  'creatorSummary': 'Eisele',\n",
       "  'parsedDate': '1997',\n",
       "  'numChildren': 0},\n",
       " 'data': {'key': 'JAAFVQTT',\n",
       "  'version': 17033,\n",
       "  'itemType': 'journalArticle',\n",
       "  'title': 'On the Description and Representation of Arabic',\n",
       "  'creators': [{'creatorType': 'author',\n",
       "    'firstName': 'John C.',\n",
       "    'lastName': 'Eisele'}],\n",
       "  'abstractNote': 'In Modern Arabic, Clive Holes suceeds in detailing present-day Arabic in all of its variety. Yet, in drawing conclusions regarding several important points, he fails to consider fully and objectively some of the data he himself presents in the study, due partly to his uncritical acceptance of certain widely-held but often unexpressed notions about Arabic. This-together with occasional lapses in the data itself-ultimately undermines the premise of the work, which is to represent variation in Arabic in a dynamic, fluid fashion.',\n",
       "  'publicationTitle': 'Journal of the American Oriental Society',\n",
       "  'volume': '117',\n",
       "  'issue': '2',\n",
       "  'pages': '325-331',\n",
       "  'date': '1997',\n",
       "  'series': '',\n",
       "  'seriesTitle': '',\n",
       "  'seriesText': '',\n",
       "  'journalAbbreviation': '',\n",
       "  'language': '',\n",
       "  'DOI': '10.2307/605494',\n",
       "  'ISSN': '00030279',\n",
       "  'shortTitle': '',\n",
       "  'url': '',\n",
       "  'accessDate': '2022-02-22',\n",
       "  'archive': 'JSTOR',\n",
       "  'archiveLocation': '',\n",
       "  'libraryCatalog': '',\n",
       "  'callNumber': '',\n",
       "  'rights': '',\n",
       "  'extra': '(biblid:eisele_1997_3476)',\n",
       "  'tags': [],\n",
       "  'collections': [],\n",
       "  'relations': {},\n",
       "  'dateAdded': '2022-02-22T14:49:21Z',\n",
       "  'dateModified': '2022-05-19T08:44:51Z'}}"
      ]
     },
     "execution_count": 53,
     "metadata": {},
     "output_type": "execute_result"
    }
   ],
   "source": [
    "allitems[0]"
   ]
  },
  {
   "cell_type": "markdown",
   "metadata": {},
   "source": [
    "## Check bibl-id"
   ]
  },
  {
   "cell_type": "code",
   "execution_count": 101,
   "metadata": {},
   "outputs": [],
   "source": [
    "bibl_data = []\n",
    "missing = []\n",
    "attachments = []\n",
    "notes = []\n",
    "for bibl in allitems:\n",
    "    item = {}\n",
    "    item[\"zotero_url\"] = bibl[\"links\"][\"self\"][\"href\"]\n",
    "    item[\"xml_id\"] = None\n",
    "    item[\"zotero_id\"] = bibl[\"key\"]\n",
    "    #check extra\n",
    "    if \"extra\" in bibl[\"data\"]:\n",
    "        item[\"extra\"] = bibl[\"data\"][\"extra\"]\n",
    "    \n",
    "    if bibl[\"data\"][\"itemType\"] == \"attachment\":\n",
    "        attachments.append(item)\n",
    "    elif bibl[\"data\"][\"itemType\"] == \"note\":\n",
    "        notes.append(item)\n",
    "    else:\n",
    "        if item[\"extra\"] == \"\":\n",
    "            missing.append(item)\n",
    "        \n",
    "        bibl_data.append(item)\n",
    "    "
   ]
  },
  {
   "cell_type": "code",
   "execution_count": 102,
   "metadata": {},
   "outputs": [
    {
     "data": {
      "text/plain": [
       "4990"
      ]
     },
     "execution_count": 102,
     "metadata": {},
     "output_type": "execute_result"
    }
   ],
   "source": [
    "len(bibl_data)"
   ]
  },
  {
   "cell_type": "code",
   "execution_count": 103,
   "metadata": {},
   "outputs": [
    {
     "data": {
      "text/plain": [
       "268"
      ]
     },
     "execution_count": 103,
     "metadata": {},
     "output_type": "execute_result"
    }
   ],
   "source": [
    "len(missing)"
   ]
  },
  {
   "cell_type": "code",
   "execution_count": 88,
   "metadata": {},
   "outputs": [
    {
     "data": {
      "text/plain": [
       "{'zotero_url': 'https://api.zotero.org/groups/2165756/items/JAAFVQTT',\n",
       " 'xml_id': None,\n",
       " 'zotero_id': 'JAAFVQTT',\n",
       " 'extra': '(biblid:eisele_1997_3476)'}"
      ]
     },
     "execution_count": 88,
     "metadata": {},
     "output_type": "execute_result"
    }
   ],
   "source": [
    "bibl_data[0]"
   ]
  },
  {
   "cell_type": "code",
   "execution_count": 89,
   "metadata": {},
   "outputs": [
    {
     "data": {
      "text/plain": [
       "{'zotero_url': 'https://api.zotero.org/groups/2165756/items/RSVR9HM9',\n",
       " 'xml_id': None,\n",
       " 'zotero_id': 'RSVR9HM9',\n",
       " 'extra': '(biblid:miller_2009_6039)'}"
      ]
     },
     "execution_count": 89,
     "metadata": {},
     "output_type": "execute_result"
    }
   ],
   "source": [
    "bibl_data[333]"
   ]
  },
  {
   "cell_type": "code",
   "execution_count": 104,
   "metadata": {},
   "outputs": [
    {
     "data": {
      "text/plain": [
       "268"
      ]
     },
     "execution_count": 104,
     "metadata": {},
     "output_type": "execute_result"
    }
   ],
   "source": [
    "len(missing)"
   ]
  },
  {
   "cell_type": "code",
   "execution_count": 105,
   "metadata": {},
   "outputs": [
    {
     "data": {
      "text/plain": [
       "{'zotero_url': 'https://api.zotero.org/groups/2165756/items/H5Z6QYGF',\n",
       " 'xml_id': None,\n",
       " 'zotero_id': 'H5Z6QYGF',\n",
       " 'extra': ''}"
      ]
     },
     "execution_count": 105,
     "metadata": {},
     "output_type": "execute_result"
    }
   ],
   "source": [
    "missing[0]"
   ]
  },
  {
   "cell_type": "code",
   "execution_count": 106,
   "metadata": {},
   "outputs": [
    {
     "data": {
      "text/plain": [
       "1045"
      ]
     },
     "execution_count": 106,
     "metadata": {},
     "output_type": "execute_result"
    }
   ],
   "source": [
    "len(notes)"
   ]
  },
  {
   "cell_type": "code",
   "execution_count": 107,
   "metadata": {},
   "outputs": [
    {
     "data": {
      "text/plain": [
       "46"
      ]
     },
     "execution_count": 107,
     "metadata": {},
     "output_type": "execute_result"
    }
   ],
   "source": [
    "len(attachments)"
   ]
  },
  {
   "cell_type": "code",
   "execution_count": 112,
   "metadata": {},
   "outputs": [
    {
     "data": {
      "text/plain": [
       "6081"
      ]
     },
     "execution_count": 112,
     "metadata": {},
     "output_type": "execute_result"
    }
   ],
   "source": [
    "len(notes) + len(attachments) + len(bibl_data) "
   ]
  },
  {
   "cell_type": "code",
   "execution_count": 75,
   "metadata": {},
   "outputs": [
    {
     "data": {
      "text/plain": [
       "{'zotero_url': 'https://api.zotero.org/groups/2165756/items/3JX68A6E',\n",
       " 'xml_id': None,\n",
       " 'zotero_id': '3JX68A6E'}"
      ]
     },
     "execution_count": 75,
     "metadata": {},
     "output_type": "execute_result"
    }
   ],
   "source": [
    "attachments[0]"
   ]
  },
  {
   "cell_type": "code",
   "execution_count": 76,
   "metadata": {},
   "outputs": [
    {
     "data": {
      "text/plain": [
       "{'zotero_url': 'https://api.zotero.org/groups/2165756/items/FJD2FHSD',\n",
       " 'xml_id': None,\n",
       " 'zotero_id': 'FJD2FHSD'}"
      ]
     },
     "execution_count": 76,
     "metadata": {},
     "output_type": "execute_result"
    }
   ],
   "source": [
    "attachments[1]"
   ]
  },
  {
   "cell_type": "markdown",
   "metadata": {},
   "source": [
    "## Export list with all bibl-data extra"
   ]
  },
  {
   "cell_type": "code",
   "execution_count": 78,
   "metadata": {},
   "outputs": [],
   "source": [
    "import csv\n",
    "\n",
    "f = open('bibldata_vicav.csv', 'w')\n",
    "writer = csv.writer(f)\n",
    "\n",
    "for item in bibl_data:\n",
    "    row = []\n",
    "    row.append(item[\"zotero_url\"])\n",
    "    row.append(item[\"zotero_id\"])\n",
    "    if \"extra\" in item:\n",
    "        row.append(item[\"extra\"])\n",
    "    else:\n",
    "        row.append(\"\")\n",
    "    \n",
    "    writer.writerow(row)\n",
    "f.close()"
   ]
  },
  {
   "cell_type": "markdown",
   "metadata": {},
   "source": [
    "## Update missing extra-fields"
   ]
  },
  {
   "cell_type": "code",
   "execution_count": 80,
   "metadata": {},
   "outputs": [],
   "source": [
    "api_token = \"DQfd2PYuoDza5S0zMQdjzU6P\"\n",
    "headers = {'Authorization': 'Bearer ' + api_token}"
   ]
  },
  {
   "cell_type": "code",
   "execution_count": 81,
   "metadata": {},
   "outputs": [],
   "source": [
    "# Function to update zotero-item\n",
    "\n",
    "def update_zotero_extra_in_item(url:str, extra:str):\n",
    "    #test_url = \"https://api.zotero.org/groups/4669401/items/P4TV9RFP\"\n",
    "    \n",
    "    response = requests.get(url, headers=headers)\n",
    "    if response.status_code == 200:\n",
    "        parsed = json.loads(response.text)\n",
    "        \n",
    "        if \"extra\" in parsed[\"data\"]:\n",
    "            old_extra_val = parsed[\"data\"][\"extra\"]\n",
    "            #print(\"Existing 'extra' field value was: \" + old_extra_val)\n",
    "            \n",
    "            #updating\n",
    "            parsed[\"data\"][\"extra\"] = extra\n",
    "            \n",
    "            update = requests.put(url, headers=headers, json=parsed)\n",
    "            if update.status_code == 204:\n",
    "                #everything worked\n",
    "                #return True as idicator, that everything worked as expected, and the old \"extra\" value (could be stored somewhere for safe-keeping)\n",
    "                return [True,old_extra_val]\n",
    "            else:\n",
    "                print(\"Error when updating item. Status code:\" + str(update.status_code))\n",
    "        \n",
    "    else:\n",
    "        print(\"Error when getting item. Status code: \" + str(response.status_code))    \n",
    "    "
   ]
  },
  {
   "cell_type": "code",
   "execution_count": 127,
   "metadata": {},
   "outputs": [],
   "source": [
    "import re\n",
    "import random"
   ]
  },
  {
   "cell_type": "code",
   "execution_count": 130,
   "metadata": {},
   "outputs": [],
   "source": [
    "## create extra value\n",
    "def create_extra_val(url:str):\n",
    "    response = requests.get(url, headers=headers)\n",
    "    if response.status_code == 200:\n",
    "        parsed = json.loads(response.text)\n",
    "        \n",
    "        #last name first creator\n",
    "        lastname = parsed[\"data\"][\"creators\"][0][\"lastName\"]\n",
    "        pubyear = parsed[\"data\"][\"date\"]\n",
    "        #print(\"Name: \" + name + \" Year: \" + year + \" Suffix: \" + suffix )\n",
    "        r = random.randint(1,9999)\n",
    "        randnr = \"%04d\" % r\n",
    "        new_id = lastname.lower() + \"_\" + pubyear + \"_\" + randnr\n",
    "        \n",
    "        \n",
    "        return new_id"
   ]
  },
  {
   "cell_type": "code",
   "execution_count": 131,
   "metadata": {},
   "outputs": [
    {
     "data": {
      "text/plain": [
       "'al-jallad_2021_5878'"
      ]
     },
     "execution_count": 131,
     "metadata": {},
     "output_type": "execute_result"
    }
   ],
   "source": [
    "create_extra_val(missing[0][\"zotero_url\"])"
   ]
  },
  {
   "cell_type": "code",
   "execution_count": 134,
   "metadata": {},
   "outputs": [
    {
     "name": "stdout",
     "output_type": "stream",
     "text": [
      "1 von 268\n",
      "Updating H5Z6QYGF\n",
      "2 von 268\n",
      "Updating RD9G436Q\n",
      "3 von 268\n",
      "Updating NGK4FLL9\n",
      "4 von 268\n",
      "Updating DG6ITECY\n",
      "5 von 268\n",
      "Updating 2JQQSW26\n",
      "6 von 268\n",
      "Updating HX8QK5DH\n",
      "7 von 268\n",
      "Updating 8TFNC9N4\n",
      "8 von 268\n",
      "Updating X9BYVAM5\n",
      "9 von 268\n",
      "Updating ENYPZHMC\n",
      "10 von 268\n",
      "Updating UPV33IP6\n",
      "11 von 268\n",
      "Updating BBDE2SVD\n",
      "12 von 268\n",
      "Updating UBUNBJZH\n",
      "13 von 268\n",
      "Updating 8FUJQ2QM\n",
      "14 von 268\n",
      "Updating IIS2SV4G\n",
      "15 von 268\n",
      "Updating 5BIJV6W5\n",
      "16 von 268\n",
      "Updating PBL27MRR\n",
      "17 von 268\n",
      "Updating UZARQZGV\n",
      "18 von 268\n",
      "Updating ZKXZETIR\n",
      "19 von 268\n",
      "Updating 5XMCGUMW\n",
      "20 von 268\n",
      "Updating GV4MQQJW\n",
      "21 von 268\n",
      "Updating 5VR4DBB7\n",
      "22 von 268\n",
      "Updating R8F3CRX6\n",
      "23 von 268\n",
      "Updating 48XB7LED\n",
      "24 von 268\n",
      "Updating H49IUL33\n",
      "25 von 268\n",
      "Updating 73V9CH52\n",
      "26 von 268\n",
      "Updating 2S4VPJZX\n",
      "27 von 268\n",
      "Updating UKTLGGAF\n",
      "28 von 268\n",
      "Updating 5LYW9HD4\n",
      "29 von 268\n",
      "Updating 3MB7YTPC\n",
      "30 von 268\n",
      "Updating ABSSGZSI\n",
      "31 von 268\n",
      "Updating T5CDYBDV\n",
      "32 von 268\n",
      "Updating KBTFRP8Z\n",
      "33 von 268\n",
      "Updating I23G826D\n",
      "34 von 268\n",
      "Updating 6PVPCANE\n",
      "35 von 268\n",
      "Updating IL8SP4J6\n",
      "36 von 268\n",
      "Updating L785CIFM\n",
      "37 von 268\n",
      "Updating J4CFIKM4\n",
      "38 von 268\n",
      "Updating C8LXRHNC\n",
      "39 von 268\n",
      "Updating K4CBPETB\n",
      "40 von 268\n",
      "Updating 63G9JXSP\n",
      "41 von 268\n",
      "Updating 48QC2F28\n",
      "42 von 268\n",
      "Updating KMHCB5JD\n",
      "43 von 268\n",
      "Updating P6D5ULBP\n",
      "44 von 268\n",
      "Updating 48RLEJ92\n",
      "45 von 268\n",
      "Updating 98R5JHKX\n",
      "46 von 268\n",
      "Updating 4237UF4S\n",
      "47 von 268\n",
      "Updating GKB6E4NW\n",
      "48 von 268\n",
      "Updating WNNK4LCK\n",
      "49 von 268\n",
      "Updating SHYQITM2\n",
      "50 von 268\n",
      "Updating 5RZCFGH5\n",
      "51 von 268\n",
      "Updating 944KQVKQ\n",
      "52 von 268\n",
      "Updating S9FIRHYW\n",
      "53 von 268\n",
      "Updating MVB62FH7\n",
      "54 von 268\n",
      "Updating E5Y9ZA55\n",
      "55 von 268\n",
      "Updating XLCIJGXV\n",
      "56 von 268\n",
      "Updating QSU9K5J9\n",
      "57 von 268\n",
      "Updating CJ8DXN79\n",
      "58 von 268\n",
      "Updating L2PYF7FV\n",
      "59 von 268\n",
      "Updating 8ET3UBZD\n",
      "60 von 268\n",
      "Updating 7F547RF6\n",
      "61 von 268\n",
      "Updating 5XHDCICS\n",
      "62 von 268\n",
      "Updating F7S3T2UT\n",
      "63 von 268\n",
      "Updating 4KC2C7LT\n",
      "64 von 268\n",
      "Updating UCAHJHWT\n",
      "65 von 268\n",
      "Updating 5ZSVFVJP\n",
      "66 von 268\n",
      "Updating CUCWR4GI\n",
      "67 von 268\n",
      "Updating 5WV2S4RB\n",
      "68 von 268\n",
      "Updating PM48392W\n",
      "69 von 268\n",
      "Updating 9D8AWSBR\n",
      "70 von 268\n",
      "Updating Z9R6HIG2\n",
      "71 von 268\n",
      "Updating AGKRXVK9\n",
      "72 von 268\n",
      "Updating NA97Q9YI\n",
      "73 von 268\n",
      "Updating BSA2EA5A\n",
      "74 von 268\n",
      "Updating 68L23XEV\n",
      "75 von 268\n",
      "Updating Q5UEYVFK\n",
      "76 von 268\n",
      "Updating NVI76RYP\n",
      "77 von 268\n",
      "Updating SGZXWEZ9\n",
      "78 von 268\n",
      "Updating P3AWT7HL\n",
      "79 von 268\n",
      "Updating S5ESJ2CK\n",
      "80 von 268\n",
      "Updating 5ZQYI6I3\n",
      "81 von 268\n",
      "Updating 5MWQCDN6\n",
      "82 von 268\n",
      "Updating J2ZQQGEE\n",
      "83 von 268\n",
      "Updating RY9JHZE7\n",
      "84 von 268\n",
      "Updating KM35P8D9\n",
      "85 von 268\n",
      "Updating 7X8876D7\n",
      "86 von 268\n",
      "Updating UQYJSQT7\n",
      "87 von 268\n",
      "Updating GN9Z48YQ\n",
      "88 von 268\n",
      "Updating 9A38GARX\n",
      "89 von 268\n",
      "Updating FTYFBBCX\n",
      "90 von 268\n",
      "Updating NKC9XQJ3\n",
      "91 von 268\n",
      "Updating NGVXGGFQ\n",
      "92 von 268\n",
      "Updating IAXJKEQD\n",
      "93 von 268\n",
      "Updating NN7IL2TR\n",
      "94 von 268\n",
      "Updating TG2TJLKG\n",
      "95 von 268\n",
      "Updating H8E3KN4U\n",
      "96 von 268\n",
      "Updating Z7PGZ2CW\n",
      "97 von 268\n",
      "Updating XFBIIPSE\n",
      "98 von 268\n",
      "Updating CMJNYV8B\n",
      "99 von 268\n",
      "Updating QDGYD7NJ\n",
      "100 von 268\n",
      "Updating M5WZ456A\n",
      "101 von 268\n",
      "Updating RTAL7FD9\n",
      "102 von 268\n",
      "Updating L3PGPU5K\n",
      "103 von 268\n",
      "Updating V5S29A2N\n",
      "104 von 268\n",
      "Updating KL8C6KSX\n",
      "105 von 268\n",
      "Updating 8FLX7ZGH\n",
      "106 von 268\n",
      "Updating P2WWBDNX\n",
      "107 von 268\n",
      "Updating EU7TH4QQ\n",
      "108 von 268\n",
      "Updating GQSQLCVV\n",
      "109 von 268\n",
      "Updating 9VYTK4LC\n",
      "110 von 268\n",
      "Updating QRIRPQH6\n",
      "111 von 268\n",
      "Updating YL9RTMFB\n",
      "112 von 268\n",
      "Updating JDBQV5ZA\n",
      "113 von 268\n",
      "Updating CYH92HKM\n",
      "114 von 268\n",
      "Updating TZZA47FM\n",
      "115 von 268\n",
      "Updating 6893RZ6A\n",
      "116 von 268\n",
      "Updating 49SKYCLD\n",
      "117 von 268\n",
      "Updating 9PLCEM52\n",
      "118 von 268\n",
      "Updating 5IQUQACY\n",
      "119 von 268\n",
      "Updating SQQ8RIEW\n",
      "120 von 268\n",
      "Updating NYJIXTDI\n",
      "121 von 268\n",
      "Updating 8JW2PTYK\n",
      "122 von 268\n",
      "Updating 7GK25787\n",
      "123 von 268\n",
      "Updating VNACT5VF\n",
      "124 von 268\n",
      "Updating 8BS3JNRN\n",
      "125 von 268\n",
      "Updating HQ5DZ9LK\n",
      "126 von 268\n",
      "Updating SU5FIETS\n",
      "127 von 268\n",
      "Updating 8B6JHU3Q\n",
      "128 von 268\n",
      "Updating XGKW443E\n",
      "129 von 268\n",
      "Updating PCSVHHES\n",
      "error to generate id: PCSVHHES\n",
      "130 von 268\n",
      "Updating 2WMSAAZ4\n",
      "131 von 268\n",
      "Updating X5NBLJ5D\n",
      "132 von 268\n",
      "Updating PLWFAXP3\n",
      "133 von 268\n",
      "Updating WZ3Y4X7P\n",
      "134 von 268\n",
      "Updating RXVPJ3LT\n",
      "135 von 268\n",
      "Updating TBA4XVSL\n",
      "136 von 268\n",
      "Updating FRZRU7R6\n",
      "137 von 268\n",
      "Updating FJQ7HX6E\n",
      "138 von 268\n",
      "Updating BH3NRQWU\n",
      "139 von 268\n",
      "Updating LZP2CTT2\n",
      "140 von 268\n",
      "Updating GQ8QDC4Q\n",
      "141 von 268\n",
      "Updating BGIBLRIC\n",
      "142 von 268\n",
      "Updating BYKUD7XF\n",
      "143 von 268\n",
      "Updating A76UHMF9\n",
      "144 von 268\n",
      "Updating T4QDS6YY\n",
      "145 von 268\n",
      "Updating DB5KVYZ8\n",
      "146 von 268\n",
      "Updating 9N4HDC7M\n",
      "147 von 268\n",
      "Updating 5RA4FDZY\n",
      "148 von 268\n",
      "Updating U7XA9ZTU\n",
      "149 von 268\n",
      "Updating SMU4WPRF\n",
      "150 von 268\n",
      "Updating X27P6FN9\n",
      "151 von 268\n",
      "Updating P286DE6T\n",
      "152 von 268\n",
      "Updating QBPL8LZJ\n",
      "153 von 268\n",
      "Updating P65WR4C7\n",
      "154 von 268\n",
      "Updating YG7KHFXA\n",
      "155 von 268\n",
      "Updating 8SMR7KZK\n",
      "156 von 268\n",
      "Updating EFVFGW46\n",
      "157 von 268\n",
      "Updating MSURRRZS\n",
      "158 von 268\n",
      "Updating 5NZJVZT2\n",
      "159 von 268\n",
      "Updating SB8U6V5W\n",
      "160 von 268\n",
      "Updating 8GLF5J7D\n",
      "161 von 268\n",
      "Updating S4C57BER\n",
      "162 von 268\n",
      "Updating R7ES8VFX\n",
      "163 von 268\n",
      "Updating C62HQCCX\n",
      "164 von 268\n",
      "Updating 6EB2PETP\n",
      "165 von 268\n",
      "Updating 5PAG6FAF\n",
      "166 von 268\n",
      "Updating 66QDS6FC\n",
      "167 von 268\n",
      "Updating HM66CI5V\n",
      "168 von 268\n",
      "Updating PIYA7VKB\n",
      "169 von 268\n",
      "Updating TQTZC6TB\n",
      "170 von 268\n",
      "Updating X89FQ4MJ\n",
      "171 von 268\n",
      "Updating DX5K3NMY\n",
      "172 von 268\n",
      "Updating 6K9WBMFT\n",
      "173 von 268\n",
      "Updating IJ3WK87I\n",
      "174 von 268\n",
      "Updating 3WEIGMKK\n",
      "175 von 268\n",
      "Updating 8GJMIYBF\n",
      "176 von 268\n",
      "Updating ENKFE3UK\n",
      "177 von 268\n",
      "Updating PRGMPW88\n",
      "178 von 268\n",
      "Updating S37ENQSM\n",
      "179 von 268\n",
      "Updating V3K9NNMT\n",
      "180 von 268\n",
      "Updating E732VGVV\n",
      "181 von 268\n",
      "Updating REGEWKEN\n",
      "182 von 268\n",
      "Updating 3FJEZ2CG\n",
      "183 von 268\n",
      "Updating NEL9LE2W\n",
      "184 von 268\n",
      "Updating FCYDBDEK\n",
      "185 von 268\n",
      "Updating 7MEZQUVB\n",
      "186 von 268\n",
      "Updating 8Q3WEDYA\n",
      "187 von 268\n",
      "Updating ZJLGDDIP\n",
      "188 von 268\n",
      "Updating NCA4ZMKZ\n",
      "189 von 268\n",
      "Updating NQIRBG98\n",
      "190 von 268\n",
      "Updating UT3GM6DS\n",
      "191 von 268\n",
      "Updating JQAHK9JL\n",
      "192 von 268\n",
      "Updating DFD5NLYE\n",
      "193 von 268\n",
      "Updating THQQR5NF\n",
      "194 von 268\n",
      "Updating WR4N5FV8\n",
      "195 von 268\n",
      "Updating LMULDMWI\n",
      "196 von 268\n",
      "Updating UL9VINIK\n",
      "197 von 268\n",
      "Updating 8YDUEQ4T\n",
      "198 von 268\n",
      "Updating J7994M4I\n",
      "199 von 268\n",
      "Updating VIQYD46P\n",
      "200 von 268\n",
      "Updating 6QGZLXPN\n",
      "201 von 268\n",
      "Updating JUYHXI9H\n",
      "202 von 268\n",
      "Updating AHPXQURP\n",
      "203 von 268\n",
      "Updating FQX7HPCD\n",
      "204 von 268\n",
      "Updating VMJ9XUXM\n",
      "205 von 268\n",
      "Updating 5PK94NJN\n",
      "206 von 268\n",
      "Updating TNGZJPKT\n",
      "207 von 268\n",
      "Updating JU5GTGDJ\n",
      "208 von 268\n",
      "Updating H92BT27R\n",
      "209 von 268\n",
      "Updating 37A862IU\n",
      "210 von 268\n",
      "Updating Q9KXDYP3\n",
      "211 von 268\n",
      "Updating TPXCXC7H\n",
      "212 von 268\n",
      "Updating 6XQVDKWD\n",
      "213 von 268\n",
      "Updating PLX2EN3A\n",
      "214 von 268\n",
      "Updating GVUMHS3K\n",
      "215 von 268\n",
      "Updating TQ8UH7XV\n",
      "216 von 268\n",
      "Updating BM3Y5STW\n",
      "217 von 268\n",
      "Updating ESAFBMK2\n",
      "218 von 268\n",
      "Updating EPRME8RN\n",
      "219 von 268\n",
      "Updating JYZWL6Y3\n",
      "220 von 268\n",
      "Updating 78DY5UVW\n",
      "221 von 268\n",
      "Updating RWEPYBN7\n",
      "222 von 268\n",
      "Updating VWKRLHR9\n",
      "223 von 268\n",
      "Updating N8CSK6XH\n",
      "224 von 268\n",
      "Updating 5VSJEDQ8\n",
      "error to generate id: 5VSJEDQ8\n",
      "225 von 268\n",
      "Updating 2FQQFXLX\n",
      "226 von 268\n",
      "Updating ZJNYEVY9\n",
      "error to generate id: ZJNYEVY9\n",
      "227 von 268\n",
      "Updating QUM4S3AG\n",
      "error to generate id: QUM4S3AG\n",
      "228 von 268\n",
      "Updating BMKCSECZ\n",
      "229 von 268\n",
      "Updating 3H4YI6QY\n",
      "230 von 268\n",
      "Updating NN82QKXN\n",
      "231 von 268\n",
      "Updating 8GDG8Q3V\n",
      "232 von 268\n",
      "Updating 3JVCAM29\n",
      "233 von 268\n",
      "Updating JI8T4NTP\n",
      "234 von 268\n",
      "Updating AKSVPHMH\n",
      "235 von 268\n",
      "Updating ZQ88U7CW\n",
      "236 von 268\n",
      "Updating 38R499WM\n",
      "237 von 268\n",
      "Updating SI97G9YJ\n",
      "238 von 268\n",
      "Updating HHGKSCQ8\n",
      "239 von 268\n",
      "Updating YV4CZDY9\n",
      "240 von 268\n",
      "Updating QXMC4VJF\n",
      "error to generate id: QXMC4VJF\n",
      "241 von 268\n",
      "Updating U3GMANW4\n",
      "error to generate id: U3GMANW4\n",
      "242 von 268\n",
      "Updating UCCAR7DW\n",
      "243 von 268\n",
      "Updating YEES5VQ3\n",
      "244 von 268\n",
      "Updating EJHJT3CB\n",
      "245 von 268\n",
      "Updating 6QKKU653\n",
      "246 von 268\n",
      "Updating T5RZ7BGS\n",
      "247 von 268\n",
      "Updating 5MISXMEC\n",
      "248 von 268\n",
      "Updating QJECSMSP\n",
      "249 von 268\n",
      "Updating N3TUYRK5\n",
      "250 von 268\n",
      "Updating LLN6PVGV\n",
      "251 von 268\n",
      "Updating ECVI4T4L\n",
      "252 von 268\n",
      "Updating NB5XPS47\n",
      "253 von 268\n",
      "Updating 47QCUQK9\n",
      "254 von 268\n",
      "Updating HIBFLHDK\n",
      "255 von 268\n",
      "Updating RBXHNUWZ\n",
      "256 von 268\n",
      "Updating DTYRNPCF\n",
      "257 von 268\n",
      "Updating JGN9G327\n",
      "258 von 268\n",
      "Updating 5FKIN5MQ\n",
      "259 von 268\n",
      "Updating 45BJHE2H\n",
      "260 von 268\n",
      "Updating UCK89WQF\n",
      "261 von 268\n",
      "Updating NCQYIUY4\n",
      "262 von 268\n",
      "Updating 9X5UANRX\n",
      "263 von 268\n",
      "Updating LWW92GB6\n",
      "264 von 268\n",
      "Updating YLPTPP6T\n",
      "265 von 268\n",
      "Updating QBXN6DED\n",
      "266 von 268\n",
      "Updating RTSB3578\n",
      "267 von 268\n",
      "Updating 7IUUFEWI\n",
      "268 von 268\n",
      "Updating AJUVVDYB\n"
     ]
    }
   ],
   "source": [
    "still_errors=[]\n",
    "counter=1\n",
    "for item in missing:\n",
    "    print(str(counter) + \" von \" + str(len(missing)))\n",
    "    print(\"Updating \" + item[\"zotero_id\"])\n",
    "    try:\n",
    "        new_id = create_extra_val(item[\"zotero_url\"])\n",
    "    except:\n",
    "        new_id = None\n",
    "        print(\"error to generate id: \" + item[\"zotero_id\"])\n",
    "        still_errors.append(item)\n",
    "    \n",
    "    if new_id != None:\n",
    "        new_extra = \"(\" + \"biblid:\" + new_id + \")\"\n",
    "        item[\"biblid\"] = new_extra\n",
    "        updated = update_zotero_extra_in_item(item[\"zotero_url\"], new_extra)\n",
    "        item[\"updated\"] = updated[0]\n",
    "        item[\"old_extra_val\"] = updated[1]\n",
    "    counter = counter + 1"
   ]
  },
  {
   "cell_type": "code",
   "execution_count": 135,
   "metadata": {},
   "outputs": [
    {
     "data": {
      "text/plain": [
       "[{'zotero_url': 'https://api.zotero.org/groups/2165756/items/PCSVHHES',\n",
       "  'xml_id': None,\n",
       "  'zotero_id': 'PCSVHHES',\n",
       "  'extra': ''},\n",
       " {'zotero_url': 'https://api.zotero.org/groups/2165756/items/5VSJEDQ8',\n",
       "  'xml_id': None,\n",
       "  'zotero_id': '5VSJEDQ8',\n",
       "  'extra': ''},\n",
       " {'zotero_url': 'https://api.zotero.org/groups/2165756/items/ZJNYEVY9',\n",
       "  'xml_id': None,\n",
       "  'zotero_id': 'ZJNYEVY9',\n",
       "  'extra': ''},\n",
       " {'zotero_url': 'https://api.zotero.org/groups/2165756/items/QUM4S3AG',\n",
       "  'xml_id': None,\n",
       "  'zotero_id': 'QUM4S3AG',\n",
       "  'extra': ''},\n",
       " {'zotero_url': 'https://api.zotero.org/groups/2165756/items/QXMC4VJF',\n",
       "  'xml_id': None,\n",
       "  'zotero_id': 'QXMC4VJF',\n",
       "  'extra': ''},\n",
       " {'zotero_url': 'https://api.zotero.org/groups/2165756/items/U3GMANW4',\n",
       "  'xml_id': None,\n",
       "  'zotero_id': 'U3GMANW4',\n",
       "  'extra': ''}]"
      ]
     },
     "execution_count": 135,
     "metadata": {},
     "output_type": "execute_result"
    }
   ],
   "source": [
    "still_errors"
   ]
  },
  {
   "cell_type": "code",
   "execution_count": null,
   "metadata": {},
   "outputs": [],
   "source": []
  }
 ],
 "metadata": {
  "kernelspec": {
   "display_name": "Python 3",
   "language": "python",
   "name": "python3"
  },
  "language_info": {
   "codemirror_mode": {
    "name": "ipython",
    "version": 3
   },
   "file_extension": ".py",
   "mimetype": "text/x-python",
   "name": "python",
   "nbconvert_exporter": "python",
   "pygments_lexer": "ipython3",
   "version": "3.8.8"
  }
 },
 "nbformat": 4,
 "nbformat_minor": 2
}
