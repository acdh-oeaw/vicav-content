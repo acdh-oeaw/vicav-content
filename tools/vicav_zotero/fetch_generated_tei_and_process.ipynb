{
 "cells": [
  {
   "cell_type": "markdown",
   "metadata": {
    "tags": []
   },
   "source": [
    "# Script to automate the export and manipulation of the VICAV-library\n",
    "\n",
    "## Import Package eTree to parse XML Files"
   ]
  },
  {
   "cell_type": "code",
   "execution_count": 1,
   "metadata": {
    "tags": []
   },
   "outputs": [],
   "source": [
    "import requests\n",
    "import json\n",
    "import logging\n",
    "import os\n",
    "import xml.etree.ElementTree as ET\n",
    "import asyncio\n",
    "import aiohttp\n",
    "# this module is needed to make asyncio.run work inside the notebook as well as in the generated python script\n",
    "import nest_asyncio\n",
    "nest_asyncio.apply()\n",
    "logging.basicConfig(format='%(asctime)s - %(message)s', level=logging.INFO)\n",
    "#logging.basicConfig(level=logging.DEBUG)"
   ]
  },
  {
   "cell_type": "markdown",
   "metadata": {},
   "source": [
    "## Define name-space for xml-parsing"
   ]
  },
  {
   "cell_type": "code",
   "execution_count": 2,
   "metadata": {
    "tags": []
   },
   "outputs": [],
   "source": [
    "xmlns = {\"tei\": \"http://www.tei-c.org/ns/1.0\", \"xml\":\"http://www.w3.org/XML/1998/namespace\" }"
   ]
  },
  {
   "cell_type": "markdown",
   "metadata": {
    "tags": []
   },
   "source": [
    "## Access to the VICAV Zotero library\n",
    "\n",
    "* Use API_TOKEN from environment to access Zotero\n",
    "* Set the Zotero group id for VICAV here"
   ]
  },
  {
   "cell_type": "code",
   "execution_count": 17,
   "metadata": {
    "tags": []
   },
   "outputs": [],
   "source": [
    "request_headers = {'Authorization': 'Bearer ' + os.environ['API_TOKEN']}\n",
    "group_id = \"2165756\"\n",
    "limit_downloads_to = None"
   ]
  },
  {
   "cell_type": "markdown",
   "metadata": {},
   "source": [
    "## Read all items in the library\n",
    "\n",
    "Load items from Zotero group library\n",
    "\n",
    "    Args: \n",
    "        group_id (str): ID of a Zotero group\n",
    "        limit (int): number of items to retrieve from library, maximum is 100.\n",
    "        start (int): item number to start with"
   ]
  },
  {
   "cell_type": "code",
   "execution_count": 4,
   "metadata": {
    "tags": []
   },
   "outputs": [],
   "source": [
    "def get_items(group_id:str,limit:int,start:int):\n",
    "    request_url = \"https://api.zotero.org/groups/\" + group_id + \"/items/\" + \"?limit=\" + str(limit) + \"&start=\" + str(start)\n",
    "    response = requests.get(request_url, headers=request_headers)\n",
    "    if response.status_code == 200:\n",
    "        parsed = json.loads(response.text)\n",
    "        response_headers = response.headers\n",
    "        \n",
    "    return parsed, response_headers"
   ]
  },
  {
   "cell_type": "raw",
   "metadata": {
    "raw_mimetype": "custom",
    "tags": []
   },
   "source": [
    "test1, test_reponse_headers = get_items(group_id,101,1000)\n",
    "print(test_reponse_headers, '\\n', len(test1), '\\n', test1)"
   ]
  },
  {
   "cell_type": "markdown",
   "metadata": {},
   "source": [
    "Get total number of items in group library\n",
    "\n",
    "    Args:  \n",
    "        group_id (str): ID of a Zotero group\n",
    "    \n",
    "    Returns:\n",
    "        int: number of items in the library"
   ]
  },
  {
   "cell_type": "code",
   "execution_count": 5,
   "metadata": {
    "tags": []
   },
   "outputs": [],
   "source": [
    "def total_number_items(group_id) -> int:\n",
    "    request_url = \"https://api.zotero.org/groups/\" + group_id + \"/items/\"\n",
    "    response = requests.get(request_url, headers=request_headers)\n",
    "    \n",
    "    return int(response.headers[\"Total-Results\"])"
   ]
  },
  {
   "cell_type": "raw",
   "metadata": {
    "raw_mimetype": "custom",
    "tags": []
   },
   "source": [
    "test2 = total_number_items(group_id)\n",
    "print(test2)"
   ]
  },
  {
   "cell_type": "markdown",
   "metadata": {},
   "source": [
    "Get headers of Zotero-Api-Calls\n",
    "\n",
    "    Args:  \n",
    "        group_id (str): ID of a Zotero group"
   ]
  },
  {
   "cell_type": "code",
   "execution_count": 6,
   "metadata": {
    "tags": []
   },
   "outputs": [],
   "source": [
    "def get_headers(group_id):\n",
    "    request_url = \"https://api.zotero.org/groups/\" + group_id + \"/items/\"\n",
    "    response = requests.get(request_url, headers=request_headers)\n",
    "    \n",
    "    return response.headers"
   ]
  },
  {
   "cell_type": "raw",
   "metadata": {
    "raw_mimetype": "custom",
    "tags": []
   },
   "source": [
    "test3 = get_headers(group_id)\n",
    "print(test3)"
   ]
  },
  {
   "cell_type": "markdown",
   "metadata": {},
   "source": [
    "Get links from headers\n",
    "\n",
    "    Args:\n",
    "        headers: http-headers of a response\n",
    "\n",
    "    Returns:\n",
    "        dict"
   ]
  },
  {
   "cell_type": "code",
   "execution_count": 7,
   "metadata": {
    "tags": []
   },
   "outputs": [],
   "source": [
    "def get_links_from_headers(headers) -> dict:\n",
    "    link_list = headers[\"Link\"].split(\",\")\n",
    "    links = {}\n",
    "    for link_item in link_list:\n",
    "        #print(link_item)\n",
    "        link_type = link_item.split('; rel=\"')[1].replace('\"','').strip()\n",
    "        link_value = link_item.split('; rel=\"')[0].replace(\"<\",\"\").replace(\">\",\"\").strip()\n",
    "        links[link_type] = link_value\n",
    "    \n",
    "    return links"
   ]
  },
  {
   "cell_type": "raw",
   "metadata": {
    "raw_mimetype": "custom",
    "tags": []
   },
   "source": [
    "test_headers = get_headers(group_id)\n",
    "test4 = get_links_from_headers(test_headers)\n",
    "print(test4)"
   ]
  },
  {
   "cell_type": "markdown",
   "metadata": {},
   "source": [
    "Get all items of a collection"
   ]
  },
  {
   "cell_type": "code",
   "execution_count": 8,
   "metadata": {
    "tags": []
   },
   "outputs": [],
   "source": [
    "def get_all_items(group_id):\n",
    "    logging.info(\"Getting all items now.\")\n",
    "    # empty list that will hold all items of the library\n",
    "    allitems=[]\n",
    "    \n",
    "    # settings to be used in the function to get the items (limit is max 100)\n",
    "    limit=100\n",
    "    start=0\n",
    "    \n",
    "    # get the first 200 items to start with\n",
    "    first_round=get_items(group_id,limit,start)\n",
    "    allitems=allitems+first_round[0]\n",
    "    \n",
    "    # get the next link from the headers\n",
    "    next_url = get_links_from_headers(first_round[1])[\"next\"]\n",
    "    last_url = get_links_from_headers(first_round[1])[\"last\"]\n",
    "    # get items until next url is last url, then all items are fetched\n",
    "    while next_url != last_url:\n",
    "        logging.info(\"Getting items from \" + next_url)\n",
    "        response = requests.get(next_url)\n",
    "        if response.status_code == 200:\n",
    "            parsed = json.loads(response.text)\n",
    "            response_headers = response.headers\n",
    "        \n",
    "            allitems=allitems + parsed\n",
    "            urls = get_links_from_headers(response_headers)\n",
    "            if \"next\" in urls:\n",
    "                next_url = urls[\"next\"]\n",
    "            else:\n",
    "                break\n",
    "        else:\n",
    "            break\n",
    "\n",
    "    # get the last items of the group\n",
    "    response = requests.get(last_url)\n",
    "    if response.status_code == 200:\n",
    "        parsed = json.loads(response.text)\n",
    "        allitems=allitems + parsed\n",
    "    \n",
    "    return allitems"
   ]
  },
  {
   "cell_type": "raw",
   "metadata": {
    "raw_mimetype": "custom",
    "tags": []
   },
   "source": [
    "test5 = get_all_items(group_id)\n",
    "print(test5)"
   ]
  },
  {
   "cell_type": "markdown",
   "metadata": {},
   "source": [
    "Store all items of a group library in a json file\n",
    "\n",
    "    Args:\n",
    "        group_id (str): ID of a Zotero group\n",
    "        filename (str): name of the export file including file-extension\n",
    "\n",
    "    Returns:\n",
    "        bool: True if successful"
   ]
  },
  {
   "cell_type": "code",
   "execution_count": 9,
   "metadata": {
    "tags": []
   },
   "outputs": [],
   "source": [
    "def export_all_items_to_file(group_id,filename) ->bool: \n",
    "    allitems = get_all_items(group_id)\n",
    "    with open(filename,\"w\") as f:\n",
    "        json.dump(allitems, f)\n",
    "    return True"
   ]
  },
  {
   "cell_type": "raw",
   "metadata": {
    "raw_mimetype": "custom",
    "tags": []
   },
   "source": [
    "#export_all_items_to_file(group_id,\"export_grouplib.json\")\n",
    "with open(\"export_grouplib.json\",\"w\") as f:\n",
    "    json.dump(test5, f)\n",
    "all_items = test5"
   ]
  },
  {
   "cell_type": "markdown",
   "metadata": {},
   "source": [
    "Store export in a file and get all item ids"
   ]
  },
  {
   "cell_type": "code",
   "execution_count": 10,
   "metadata": {
    "tags": []
   },
   "outputs": [
    {
     "name": "stderr",
     "output_type": "stream",
     "text": [
      "2023-02-21 18:59:34,972 - Grouplib export json already exists. Delete to fetch again (time consuming).\n",
      "2023-02-21 18:59:36,382 - Exported json.\n"
     ]
    }
   ],
   "source": [
    "json_file = \"export_grouplib.json\"\n",
    "if os.path.isfile(json_file):\n",
    "    logging.info(\"Grouplib export json already exists. Delete to fetch again (time consuming).\")\n",
    "    with open(json_file, 'r') as f:\n",
    "        all_items = json.load(f)    \n",
    "else:\n",
    "    all_items = get_all_items(group_id)\n",
    "\n",
    "# all_items = test5\n",
    "with open(json_file,\"w\") as f:\n",
    "    json.dump(all_items, f)\n",
    "    logging.info(\"Exported json.\")\n",
    "\n",
    "item_ids = []\n",
    "for item in all_items:\n",
    "    item_id = item[\"data\"][\"key\"]\n",
    "    item_ids.append(item_id)"
   ]
  },
  {
   "cell_type": "raw",
   "metadata": {
    "raw_mimetype": "custom",
    "tags": []
   },
   "source": [
    "print(len(item_ids), '\\n', item_ids)"
   ]
  },
  {
   "cell_type": "markdown",
   "metadata": {},
   "source": [
    "## Get all TEIs from Zotero\n",
    "\n",
    "man nimmt die Liste mit den IDs der entries, baut für jeden entry die URL nach dem Muster  \n",
    "https://api.zotero.org/groups/2165756/items/M7UJPP23?format=tei  \n",
    "man lädt das mit GET requesst  \n",
    "dann aus dem response den body und parsed das mit ET from string, nimmt daraus das  \n",
    "`<biblStruct>` Element;  \n",
    "baut eine gemeinsame `<listBibl>` und fügt das geparste Element ein,  \n",
    "dann dumpt man den ganzen Element-Tree\n",
    "\n",
    "### Retrieves TEI of an item generated by Zotero"
   ]
  },
  {
   "cell_type": "code",
   "execution_count": 11,
   "metadata": {
    "tags": []
   },
   "outputs": [],
   "source": [
    "ET.register_namespace(\"tei\", \"http://www.tei-c.org/ns/1.0\")\n",
    "async def get_item_tei(group_id,item_id,session):\n",
    "    request_url = \"https://api.zotero.org/groups/\" + group_id + \"/items/\" + item_id + \"?format=tei\"\n",
    "    bibl = None\n",
    "    try:\n",
    "        async with session.get(url=request_url, headers=request_headers) as response:\n",
    "            list_bibl = ET.fromstring(await response.text())\n",
    "        bibl = list_bibl.find(\"tei:biblStruct\",xmlns)\n",
    "    except asyncio.TimeoutError:\n",
    "        logging.info(\"Timeout fetching \" + item_id)\n",
    "    if bibl is None:\n",
    "        logging.debug(\"No biblStruct in item \" + item_id)\n",
    "    logging.info(\"Fetched TEI for \" + item_id)\n",
    "    return bibl"
   ]
  },
  {
   "cell_type": "code",
   "execution_count": 12,
   "metadata": {
    "tags": []
   },
   "outputs": [
    {
     "name": "stderr",
     "output_type": "stream",
     "text": [
      "2023-02-21 18:59:37,278 - Fetched TEI for M7UJPP23\n"
     ]
    },
    {
     "name": "stdout",
     "output_type": "stream",
     "text": [
      "<tei:biblStruct xmlns:tei=\"http://www.tei-c.org/ns/1.0\" type=\"book\" xml:id=\"Durand1994\" corresp=\"http://zotero.org/groups/2165756/items/M7UJPP23\">\n",
      "  <tei:monogr>\n",
      "    <tei:title level=\"m\">Profilo di arabo marocchino (Varietà urbane centro-meriodionali</tei:title>\n",
      "    <tei:author>\n",
      "      <tei:forename>Olivier</tei:forename>\n",
      "      <tei:surname>Durand</tei:surname>\n",
      "    </tei:author>\n",
      "    <tei:imprint>\n",
      "      <tei:pubPlace>Roma</tei:pubPlace>\n",
      "      <tei:publisher>Università degli studi \"La Sapienza\"</tei:publisher>\n",
      "      <tei:date>1994</tei:date>\n",
      "    </tei:imprint>\n",
      "  </tei:monogr>\n",
      "</tei:biblStruct>\n"
     ]
    }
   ],
   "source": [
    "async def get_item_tei_test():\n",
    "    conn = aiohttp.TCPConnector(limit=4)\n",
    "    async with aiohttp.ClientSession(connector=conn) as session:\n",
    "        test = await get_item_tei(group_id,\"M7UJPP23\",session)\n",
    "    ET.indent(test)\n",
    "    ET.dump(test)\n",
    "\n",
    "\n",
    "asyncio.run(get_item_tei_test())"
   ]
  },
  {
   "cell_type": "markdown",
   "metadata": {
    "tags": []
   },
   "source": [
    "### Load template containing a listBibl-element that will be filled with the retrieved biblStruct elements"
   ]
  },
  {
   "cell_type": "code",
   "execution_count": 13,
   "metadata": {
    "tags": []
   },
   "outputs": [],
   "source": [
    "template = ET.parse(\"listbibl_template.xml\")\n",
    "list_bibl = template.find(\"tei:text/tei:body/tei:listBibl\",xmlns)"
   ]
  },
  {
   "cell_type": "raw",
   "metadata": {
    "raw_mimetype": "custom",
    "tags": []
   },
   "source": [
    "ET.dump(list_bibl)\n",
    "list_bibl.append(test)\n",
    "ET.dump(list_bibl)"
   ]
  },
  {
   "cell_type": "markdown",
   "metadata": {
    "tags": []
   },
   "source": [
    "# Get the TEI\n",
    "\n",
    "* For each item-id get the TEI and append it to list-bibl\n",
    "* Save the resulting XML\n",
    "* Save errors for further inspection\n",
    "\n",
    "We need to consider https://www.zotero.org/support/dev/web_api/v3/basics#rate_limiting"
   ]
  },
  {
   "cell_type": "code",
   "execution_count": 19,
   "metadata": {},
   "outputs": [
    {
     "name": "stderr",
     "output_type": "stream",
     "text": [
      "2023-02-21 19:02:41,218 - Fetching at most 5945TEI/XML.\n",
      "2023-02-21 19:02:43,106 - Fetched TEI for JYWMA77R\n",
      "2023-02-21 19:02:43,111 - Fetched TEI for RCI9I9AM\n",
      "2023-02-21 19:02:43,126 - Fetched TEI for BBB3B6VY\n",
      "2023-02-21 19:02:43,134 - Fetched TEI for E9GJGZZ7\n",
      "2023-02-21 19:02:43,137 - Fetched TEI for ZPP5LFIZ\n",
      "2023-02-21 19:02:43,291 - Fetched TEI for N2NCTC8C\n",
      "2023-02-21 19:02:43,294 - Fetched TEI for EYRYK2V5\n",
      "2023-02-21 19:02:43,296 - Fetched TEI for 4RQ672D6\n",
      "2023-02-21 19:02:43,308 - Fetched TEI for RUFEDDWU\n",
      "2023-02-21 19:02:43,317 - Fetched TEI for QUCSQL79\n",
      "2023-02-21 19:02:43,320 - Fetched TEI for NPJ679RJ\n",
      "2023-02-21 19:02:43,322 - Fetched TEI for NIGWMNVB\n",
      "2023-02-21 19:02:43,323 - Fetched TEI for B6L9AIMZ\n",
      "2023-02-21 19:02:43,325 - Fetched TEI for 6KWTRZHW\n",
      "2023-02-21 19:02:43,327 - Fetched TEI for 5AGSDUQK\n",
      "2023-02-21 19:02:43,329 - Fetched TEI for 6EPNLRXU\n",
      "2023-02-21 19:02:43,542 - Fetched TEI for RNJVZ5ZY\n",
      "2023-02-21 19:02:43,568 - Fetched TEI for RLWHIEMA\n",
      "2023-02-21 19:02:43,582 - Fetched TEI for PYD8MYVU\n",
      "2023-02-21 19:02:43,584 - Fetched TEI for CUBE7ZWN\n",
      "2023-02-21 19:02:43,586 - Fetched TEI for LXDBHINC\n",
      "2023-02-21 19:02:43,711 - Fetched TEI for JQAHK9JL\n",
      "2023-02-21 19:02:43,712 - Fetched TEI for VFRAUIVS\n",
      "2023-02-21 19:02:43,724 - Fetched TEI for GLZJDZJ8\n",
      "2023-02-21 19:02:43,759 - Fetched TEI for YHWQXEEK\n",
      "2023-02-21 19:02:43,763 - Fetched TEI for FHR8ZFB4\n",
      "2023-02-21 19:02:43,765 - Fetched TEI for 7Z7K7GT5\n",
      "2023-02-21 19:02:43,775 - Fetched TEI for 94YGTTUX\n",
      "2023-02-21 19:02:43,776 - Fetched TEI for M7UJPP23\n",
      "2023-02-21 19:02:43,787 - Fetched TEI for VHZ3ZJFP\n",
      "2023-02-21 19:02:43,799 - Fetched TEI for 8PDALG3N\n",
      "2023-02-21 19:02:43,802 - Fetched TEI for L68WMCM6\n",
      "2023-02-21 19:02:43,867 - Fetched TEI for H7UD2GEC\n",
      "2023-02-21 19:02:43,968 - Fetched TEI for JZDS8J9B\n",
      "2023-02-21 19:02:44,014 - Fetched TEI for Q4YVVGBF\n",
      "2023-02-21 19:02:44,017 - Fetched TEI for LZZRXQFX\n",
      "2023-02-21 19:02:44,024 - Fetched TEI for RI9A62MM\n",
      "2023-02-21 19:02:44,128 - Fetched TEI for ET9E3AMT\n",
      "2023-02-21 19:02:44,134 - Fetched TEI for QQMMM54Z\n",
      "2023-02-21 19:02:44,163 - Fetched TEI for M6QDWLJX\n",
      "2023-02-21 19:02:44,184 - Fetched TEI for ELCV47RV\n",
      "2023-02-21 19:02:44,196 - Fetched TEI for 4TEFG4GR\n",
      "2023-02-21 19:02:44,214 - Fetched TEI for 4U4PXA2U\n",
      "2023-02-21 19:02:44,216 - Fetched TEI for SV9Z4D6Y\n",
      "2023-02-21 19:02:44,218 - Fetched TEI for 3E63NIP8\n",
      "2023-02-21 19:02:44,242 - Fetched TEI for UGX6U9FI\n",
      "2023-02-21 19:02:44,244 - Fetched TEI for CNWWGLDV\n",
      "2023-02-21 19:02:44,248 - Fetched TEI for 6E9C9WVK\n",
      "2023-02-21 19:02:44,308 - Fetched TEI for H6SUTQTH\n",
      "2023-02-21 19:02:44,398 - Fetched TEI for Y6SXHEX3\n",
      "2023-02-21 19:02:44,448 - Fetched TEI for FERNHSEK\n",
      "2023-02-21 19:02:44,463 - Fetched TEI for Y4D4EC7N\n",
      "2023-02-21 19:02:44,482 - Fetched TEI for 7BU9GRUD\n",
      "2023-02-21 19:02:44,552 - Fetched TEI for TSVAJM63\n",
      "2023-02-21 19:02:44,566 - Fetched TEI for 7U2D3ZZ5\n",
      "2023-02-21 19:02:44,598 - Fetched TEI for AXH49C7Z\n",
      "2023-02-21 19:02:44,623 - Fetched TEI for W6ZY4Q9I\n",
      "2023-02-21 19:02:44,633 - Fetched TEI for AIGGEYJV\n",
      "2023-02-21 19:02:44,656 - Fetched TEI for ASDW7JWZ\n",
      "2023-02-21 19:02:44,669 - Fetched TEI for 3UPQD47X\n",
      "2023-02-21 19:02:44,671 - Fetched TEI for 9KV8ZDXM\n",
      "2023-02-21 19:02:44,679 - Fetched TEI for 5XQZBKWH\n",
      "2023-02-21 19:02:44,698 - Fetched TEI for RTU42GAI\n",
      "2023-02-21 19:02:44,722 - Fetched TEI for 2ZCSZC6S\n",
      "2023-02-21 19:02:44,752 - Fetched TEI for ZZ7XM6L9\n",
      "2023-02-21 19:02:44,829 - Fetched TEI for 8DRBCP9U\n",
      "2023-02-21 19:02:44,838 - Fetched TEI for IX72ZLLZ\n",
      "2023-02-21 19:02:44,876 - Fetched TEI for VK3JI83R\n",
      "2023-02-21 19:02:44,899 - Fetched TEI for JLH7WA7R\n",
      "2023-02-21 19:02:44,919 - Fetched TEI for JR9RHV84\n",
      "2023-02-21 19:02:44,965 - Fetched TEI for DPCK3SDE\n",
      "2023-02-21 19:02:45,008 - Fetched TEI for YHRMX2NB\n",
      "2023-02-21 19:02:45,046 - Fetched TEI for GJJ58FYI\n",
      "2023-02-21 19:02:45,078 - Fetched TEI for MXTB9WP8\n",
      "2023-02-21 19:02:45,088 - Fetched TEI for F9J8RRIZ\n",
      "2023-02-21 19:02:45,105 - Fetched TEI for IM6ZLUC3\n",
      "2023-02-21 19:02:45,111 - Fetched TEI for PYDUUBGV\n",
      "2023-02-21 19:02:45,116 - Fetched TEI for C27CE3UF\n",
      "2023-02-21 19:02:45,152 - Fetched TEI for 8Q9L9VE2\n",
      "2023-02-21 19:02:45,165 - Fetched TEI for 32FWAUB3\n",
      "2023-02-21 19:02:45,205 - Fetched TEI for FXQSYEGH\n",
      "2023-02-21 19:02:45,251 - Fetched TEI for ZXDFZEVB\n",
      "2023-02-21 19:02:45,257 - Fetched TEI for I43HG54C\n",
      "2023-02-21 19:02:45,313 - Fetched TEI for ZNAJMUVP\n",
      "2023-02-21 19:02:45,347 - Fetched TEI for VXHLTBE4\n",
      "2023-02-21 19:02:45,349 - Fetched TEI for 5L4GDW5I\n",
      "2023-02-21 19:02:45,351 - Fetched TEI for IEMU68SH\n",
      "2023-02-21 19:02:45,383 - Fetched TEI for Z3HC36HT\n",
      "2023-02-21 19:02:45,433 - Fetched TEI for TVS8DCG7\n",
      "2023-02-21 19:02:45,466 - Fetched TEI for 243IXMTW\n",
      "2023-02-21 19:02:45,512 - Fetched TEI for SEVFED87\n",
      "2023-02-21 19:02:45,518 - Fetched TEI for SHBSB66C\n",
      "2023-02-21 19:02:45,552 - Fetched TEI for RW7V776H\n",
      "2023-02-21 19:02:45,563 - Fetched TEI for N8LWJJUV\n",
      "2023-02-21 19:02:45,595 - Fetched TEI for DB5KVYZ8\n",
      "2023-02-21 19:02:45,619 - Fetched TEI for 7AXF84RI\n",
      "2023-02-21 19:02:45,643 - Fetched TEI for K9BDS9HU\n",
      "2023-02-21 19:02:45,672 - Fetched TEI for 2YNKCJG6\n",
      "2023-02-21 19:02:45,675 - Fetched TEI for 7GRY9DGF\n",
      "2023-02-21 19:02:45,739 - Fetched TEI for XIZCMCH3\n",
      "2023-02-21 19:02:45,787 - Fetched TEI for X25QQG3S\n",
      "2023-02-21 19:02:45,791 - Fetched TEI for 42IA5TFS\n",
      "2023-02-21 19:02:45,796 - Fetched TEI for SXSIMB5P\n",
      "2023-02-21 19:02:45,797 - Fetched TEI for CSPHU9VH\n",
      "2023-02-21 19:02:45,804 - Fetched TEI for 3D54YPYN\n",
      "2023-02-21 19:02:45,853 - Fetched TEI for DK2FXFSW\n",
      "2023-02-21 19:02:45,899 - Fetched TEI for 5222DV7M\n",
      "2023-02-21 19:02:45,901 - Fetched TEI for 2CT2BIYC\n",
      "2023-02-21 19:02:45,908 - Fetched TEI for I88629Z5\n",
      "2023-02-21 19:02:45,950 - Fetched TEI for BQDY7XC9\n",
      "2023-02-21 19:02:45,963 - Fetched TEI for TMNXE5WZ\n",
      "2023-02-21 19:02:46,015 - Fetched TEI for Z8G4VXNC\n",
      "2023-02-21 19:02:46,039 - Fetched TEI for VHCQBXAG\n",
      "2023-02-21 19:02:46,062 - Fetched TEI for I7V83E4R\n",
      "2023-02-21 19:02:46,070 - Fetched TEI for CS5IE6NW\n",
      "2023-02-21 19:02:46,086 - Fetched TEI for VWKRLHR9\n",
      "2023-02-21 19:02:46,154 - Fetched TEI for HSJH5FDE\n",
      "2023-02-21 19:02:46,213 - Fetched TEI for 2NAA8RL2\n",
      "2023-02-21 19:02:46,215 - Fetched TEI for JM4EGMCH\n",
      "2023-02-21 19:02:46,221 - Fetched TEI for IWB65RVP\n",
      "2023-02-21 19:02:46,234 - Fetched TEI for 7EUR8W9Z\n",
      "2023-02-21 19:02:46,255 - Fetched TEI for XXWZKFDS\n",
      "2023-02-21 19:02:46,313 - Fetched TEI for FT7D3P3J\n",
      "2023-02-21 19:02:46,328 - Fetched TEI for A3U7U2K3\n",
      "2023-02-21 19:02:46,364 - Fetched TEI for 97WAQLM7\n",
      "2023-02-21 19:02:46,390 - Fetched TEI for UPV33IP6\n",
      "2023-02-21 19:02:46,406 - Fetched TEI for 8FIF6CWV\n",
      "2023-02-21 19:02:46,451 - Fetched TEI for 4ULBE9CY\n",
      "2023-02-21 19:02:46,473 - Fetched TEI for LP9K6JE8\n",
      "2023-02-21 19:02:46,507 - Fetched TEI for RD9G436Q\n",
      "2023-02-21 19:02:46,522 - Fetched TEI for BBDE2SVD\n",
      "2023-02-21 19:02:46,524 - Fetched TEI for IWYSZSYB\n",
      "2023-02-21 19:02:46,583 - Fetched TEI for JTCAJ57L\n",
      "2023-02-21 19:02:46,626 - Fetched TEI for 3LA5N2KZ\n",
      "2023-02-21 19:02:46,668 - Fetched TEI for FUWPTPV9\n",
      "2023-02-21 19:02:46,685 - Fetched TEI for UA6DZMMK\n",
      "2023-02-21 19:02:46,711 - Fetched TEI for Z8BXD2S8\n",
      "2023-02-21 19:02:46,750 - Fetched TEI for JXGBYNFC\n",
      "2023-02-21 19:02:46,765 - Fetched TEI for HHMRB5I6\n",
      "2023-02-21 19:02:46,815 - Fetched TEI for 9KUXTVCL\n",
      "2023-02-21 19:02:46,817 - Fetched TEI for EYWLT8CB\n",
      "2023-02-21 19:02:46,847 - Fetched TEI for LWW92GB6\n",
      "2023-02-21 19:02:46,887 - Fetched TEI for 9X5UANRX\n",
      "2023-02-21 19:02:46,919 - Fetched TEI for W578SK43\n",
      "2023-02-21 19:02:46,934 - Fetched TEI for YKMTMZLX\n",
      "2023-02-21 19:02:46,973 - Fetched TEI for 6KUML942\n",
      "2023-02-21 19:02:46,976 - Fetched TEI for QSNSCZY2\n",
      "2023-02-21 19:02:47,003 - Fetched TEI for ZCJGS68X\n",
      "2023-02-21 19:02:47,049 - Fetched TEI for L74MXE7L\n",
      "2023-02-21 19:02:47,104 - Fetched TEI for U9KMF94N\n",
      "2023-02-21 19:02:47,132 - Fetched TEI for EPAECQG8\n",
      "2023-02-21 19:02:47,163 - Fetched TEI for BZ9ERDSF\n",
      "2023-02-21 19:02:47,174 - Fetched TEI for LS8VQPE4\n",
      "2023-02-21 19:02:47,195 - Fetched TEI for KU5L9J4Z\n",
      "2023-02-21 19:02:47,255 - Fetched TEI for HEPC5YD4\n",
      "2023-02-21 19:02:47,260 - Fetched TEI for NB3NSJF8\n",
      "2023-02-21 19:02:47,285 - Fetched TEI for DY65IQCM\n",
      "2023-02-21 19:02:47,334 - Fetched TEI for 7K6JBK6L\n",
      "2023-02-21 19:02:47,348 - Fetched TEI for NP9J9EGT\n",
      "2023-02-21 19:02:47,361 - Fetched TEI for 7DMUS8ZC\n",
      "2023-02-21 19:02:47,426 - Fetched TEI for B78LE9D7\n",
      "2023-02-21 19:02:47,428 - Fetched TEI for 47QCUQK9\n",
      "2023-02-21 19:02:47,433 - Fetched TEI for QBDJIZQL\n",
      "2023-02-21 19:02:47,457 - Fetched TEI for J3B58674\n",
      "2023-02-21 19:02:47,540 - Fetched TEI for GBCVU36V\n",
      "2023-02-21 19:02:47,568 - Fetched TEI for SIP34TQJ\n",
      "2023-02-21 19:02:47,604 - Fetched TEI for XXVX2TZ7\n",
      "2023-02-21 19:02:47,611 - Fetched TEI for ICBMKISW\n",
      "2023-02-21 19:02:47,633 - Fetched TEI for 6RQL5NFD\n",
      "2023-02-21 19:02:47,685 - Fetched TEI for DM5CWZA5\n",
      "2023-02-21 19:02:47,713 - Fetched TEI for PPLUTZ4Z\n",
      "2023-02-21 19:02:47,733 - Fetched TEI for BQ3CB9K6\n",
      "2023-02-21 19:02:47,757 - Fetched TEI for PHXWAJIC\n",
      "2023-02-21 19:02:47,777 - Fetched TEI for 9HRNAEIZ\n",
      "2023-02-21 19:02:47,790 - Fetched TEI for R8GAPBHR\n",
      "2023-02-21 19:02:47,872 - Fetched TEI for UU9W58EP\n",
      "2023-02-21 19:02:47,886 - Fetched TEI for PJM3YE2C\n",
      "2023-02-21 19:02:47,906 - Fetched TEI for 6YFNZ4E4\n",
      "2023-02-21 19:02:47,908 - Fetched TEI for HUY4FIIZ\n",
      "2023-02-21 19:02:47,989 - Fetched TEI for 2Y8QRFEL\n",
      "2023-02-21 19:02:48,010 - Fetched TEI for JH9B4SF6\n",
      "2023-02-21 19:02:48,032 - Fetched TEI for B8EQ7FD5\n",
      "2023-02-21 19:02:48,062 - Fetched TEI for 6TX34JCH\n",
      "2023-02-21 19:02:48,064 - Fetched TEI for BT5CMDM3\n",
      "2023-02-21 19:02:48,080 - Fetched TEI for K5VMVZ8X\n",
      "2023-02-21 19:02:48,118 - Fetched TEI for JSGBG76Y\n",
      "2023-02-21 19:02:48,172 - Fetched TEI for 9VFAET23\n",
      "2023-02-21 19:02:48,175 - Fetched TEI for 8JJ8RI7B\n",
      "2023-02-21 19:02:48,178 - Fetched TEI for J2SE4PPB\n",
      "2023-02-21 19:02:48,211 - Fetched TEI for 8PLA4F7L\n",
      "2023-02-21 19:02:48,233 - Fetched TEI for EYYYMGMV\n",
      "2023-02-21 19:02:48,296 - Fetched TEI for HYBSLHJM\n",
      "2023-02-21 19:02:48,298 - Fetched TEI for PCE25CRG\n",
      "2023-02-21 19:02:48,329 - Fetched TEI for IMX442XU\n",
      "2023-02-21 19:02:48,386 - Fetched TEI for V6938XP2\n",
      "2023-02-21 19:02:48,389 - Fetched TEI for UV9Y4LLA\n",
      "2023-02-21 19:02:48,423 - Fetched TEI for VTLYDB7Z\n",
      "2023-02-21 19:02:48,442 - Fetched TEI for NRJ2W6Q7\n",
      "2023-02-21 19:02:48,470 - Fetched TEI for C7ADGGVW\n",
      "2023-02-21 19:02:48,496 - Fetched TEI for U5IXMTFU\n",
      "2023-02-21 19:02:48,498 - Fetched TEI for NXULX3AY\n",
      "2023-02-21 19:02:48,501 - Fetched TEI for LH6ZX8YW\n",
      "2023-02-21 19:02:48,554 - Fetched TEI for 3H34X7YQ\n",
      "2023-02-21 19:02:48,600 - Fetched TEI for LVW7FXE3\n",
      "2023-02-21 19:02:48,639 - Fetched TEI for 7BGV8UM9\n",
      "2023-02-21 19:02:48,659 - Fetched TEI for DXNCFAMR\n",
      "2023-02-21 19:02:48,664 - Fetched TEI for ME2J9J66\n",
      "2023-02-21 19:02:48,682 - Fetched TEI for NULXD85Q\n",
      "2023-02-21 19:02:48,728 - Fetched TEI for BJNTZKRW\n",
      "2023-02-21 19:02:48,731 - Fetched TEI for U8W2JFP3\n",
      "2023-02-21 19:02:48,757 - Fetched TEI for G5HMUCTE\n",
      "2023-02-21 19:02:48,843 - Fetched TEI for 7FZ2J8D6\n",
      "2023-02-21 19:02:48,859 - Fetched TEI for K5H36ULI\n",
      "2023-02-21 19:02:48,891 - Fetched TEI for EQ7TD6G7\n",
      "2023-02-21 19:02:48,912 - Fetched TEI for K8JKS7EI\n",
      "2023-02-21 19:02:48,928 - Fetched TEI for EPII929K\n",
      "2023-02-21 19:02:48,939 - Fetched TEI for L25PNRB8\n",
      "2023-02-21 19:02:48,946 - Fetched TEI for I4P8RJFG\n",
      "2023-02-21 19:02:48,991 - Fetched TEI for 4XUQ73U7\n",
      "2023-02-21 19:02:49,023 - Fetched TEI for 8N5VK8MN\n",
      "2023-02-21 19:02:49,085 - Fetched TEI for BZMKYPEJ\n",
      "2023-02-21 19:02:49,115 - Fetched TEI for U267IHY6\n",
      "2023-02-21 19:02:49,125 - Fetched TEI for Q53KCBEJ\n",
      "2023-02-21 19:02:49,132 - Fetched TEI for 6LMIV7YJ\n",
      "2023-02-21 19:02:49,165 - Fetched TEI for 7KNAT5H7\n",
      "2023-02-21 19:02:49,169 - Fetched TEI for 9H49CLQJ\n",
      "2023-02-21 19:02:49,193 - Fetched TEI for YEJEIJ3Q\n",
      "2023-02-21 19:02:49,294 - Fetched TEI for E5SAKD5S\n",
      "2023-02-21 19:02:49,296 - Fetched TEI for D9YCLR67\n",
      "2023-02-21 19:02:49,344 - Fetched TEI for 2CTGQV4D\n",
      "2023-02-21 19:02:49,346 - Fetched TEI for MPDJF6H3\n",
      "2023-02-21 19:02:49,355 - Fetched TEI for CEHYM57Y\n",
      "2023-02-21 19:02:49,387 - Fetched TEI for 5TEEAD39\n",
      "2023-02-21 19:02:49,394 - Fetched TEI for CRCUWZ22\n",
      "2023-02-21 19:02:49,422 - Fetched TEI for 9DT6GGTG\n",
      "2023-02-21 19:02:49,445 - Fetched TEI for D4L8Z56U\n",
      "2023-02-21 19:02:49,519 - Fetched TEI for G3C2BP3X\n",
      "2023-02-21 19:02:49,550 - Fetched TEI for WHHWHAUZ\n",
      "2023-02-21 19:02:49,552 - Fetched TEI for EYRLTZH8\n",
      "2023-02-21 19:02:49,582 - Fetched TEI for MVYID7IH\n",
      "2023-02-21 19:02:49,588 - Fetched TEI for HR7EDR5D\n",
      "2023-02-21 19:02:49,610 - Fetched TEI for JV8F6S5P\n",
      "2023-02-21 19:02:49,628 - Fetched TEI for PATYNYH4\n",
      "2023-02-21 19:02:49,737 - Fetched TEI for ZM26XN4T\n",
      "2023-02-21 19:02:49,748 - Fetched TEI for JGLHCN22\n",
      "2023-02-21 19:02:49,764 - Fetched TEI for 7ZDFZQDL\n",
      "2023-02-21 19:02:49,789 - Fetched TEI for FQ9J79G2\n",
      "2023-02-21 19:02:49,792 - Fetched TEI for GIGYVSJ5\n",
      "2023-02-21 19:02:49,829 - Fetched TEI for D25ZTU9X\n",
      "2023-02-21 19:02:49,832 - Fetched TEI for LFSHPSZJ\n",
      "2023-02-21 19:02:49,868 - Fetched TEI for R2ZATN5K\n",
      "2023-02-21 19:02:49,872 - Fetched TEI for G8QR79BE\n",
      "2023-02-21 19:02:49,966 - Fetched TEI for JPTESAT4\n",
      "2023-02-21 19:02:49,988 - Fetched TEI for DCGXK4V7\n",
      "2023-02-21 19:02:50,006 - Fetched TEI for 8BVNERN4\n",
      "2023-02-21 19:02:50,012 - Fetched TEI for TSPIT4DQ\n",
      "2023-02-21 19:02:50,039 - Fetched TEI for 3GZAMDR3\n",
      "2023-02-21 19:02:50,047 - Fetched TEI for JQ3EGGV2\n",
      "2023-02-21 19:02:50,055 - Fetched TEI for XQT3RDWV\n",
      "2023-02-21 19:02:50,063 - Fetched TEI for RD45H33R\n",
      "2023-02-21 19:02:50,122 - Fetched TEI for FJ8BF7UW\n",
      "2023-02-21 19:02:50,172 - Fetched TEI for KDNQWQZH\n",
      "2023-02-21 19:02:50,188 - Fetched TEI for JL5GHWLF\n",
      "2023-02-21 19:02:50,201 - Fetched TEI for ZT33R9ZP\n",
      "2023-02-21 19:02:50,213 - Fetched TEI for SA35RCHW\n",
      "2023-02-21 19:02:50,228 - Fetched TEI for 6PUA84WN\n",
      "2023-02-21 19:02:50,276 - Fetched TEI for MQ8WL38L\n",
      "2023-02-21 19:02:50,296 - Fetched TEI for J5A7G6DC\n",
      "2023-02-21 19:02:50,402 - Fetched TEI for X27P6FN9\n",
      "2023-02-21 19:02:50,428 - Fetched TEI for LFE6H2VR\n",
      "2023-02-21 19:02:50,435 - Fetched TEI for L3RS3EW3\n",
      "2023-02-21 19:02:50,440 - Fetched TEI for TDAH2K4A\n",
      "2023-02-21 19:02:50,471 - Fetched TEI for 42DPMBBV\n",
      "2023-02-21 19:02:50,483 - Fetched TEI for B2IU9R3N\n",
      "2023-02-21 19:02:50,500 - Fetched TEI for XUYTAXL2\n",
      "2023-02-21 19:02:50,502 - Fetched TEI for LZC6KRNX\n",
      "2023-02-21 19:02:50,550 - Fetched TEI for RJ3U26Y5\n",
      "2023-02-21 19:02:50,607 - Fetched TEI for GZ48P8HZ\n",
      "2023-02-21 19:02:50,626 - Fetched TEI for 4H9RSLHC\n",
      "2023-02-21 19:02:50,639 - Fetched TEI for RJCVK58K\n",
      "2023-02-21 19:02:50,657 - Fetched TEI for 9726IV48\n",
      "2023-02-21 19:02:50,676 - Fetched TEI for Q9PZGSW7\n",
      "2023-02-21 19:02:50,684 - Fetched TEI for PLGJB8SL\n",
      "2023-02-21 19:02:50,725 - Fetched TEI for KTTV98JF\n",
      "2023-02-21 19:02:50,727 - Fetched TEI for 7J3JJC4F\n",
      "2023-02-21 19:02:50,776 - Fetched TEI for 57WSLPQK\n",
      "2023-02-21 19:02:50,845 - Fetched TEI for JZIEH28R\n",
      "2023-02-21 19:02:50,852 - Fetched TEI for 7ZHTKP2X\n",
      "2023-02-21 19:02:50,874 - Fetched TEI for XPMKDRJV\n",
      "2023-02-21 19:02:50,891 - Fetched TEI for BQJRDLKL\n",
      "2023-02-21 19:02:50,927 - Fetched TEI for M4RL8PMT\n",
      "2023-02-21 19:02:50,945 - Fetched TEI for KGGY5IXC\n",
      "2023-02-21 19:02:50,988 - Fetched TEI for 8HMLICWE\n",
      "2023-02-21 19:02:51,029 - Fetched TEI for QATFLLYC\n",
      "2023-02-21 19:02:51,041 - Fetched TEI for 8PI8NX3Y\n",
      "2023-02-21 19:02:51,075 - Fetched TEI for RT49UTAB\n",
      "2023-02-21 19:02:51,078 - Fetched TEI for ZPWKJCUC\n",
      "2023-02-21 19:02:51,114 - Fetched TEI for VJDMPGF2\n",
      "2023-02-21 19:02:51,149 - Fetched TEI for G4IMBSK9\n",
      "2023-02-21 19:02:51,153 - Fetched TEI for 96LQZ45I\n",
      "2023-02-21 19:02:51,156 - Fetched TEI for XVHKF2SE\n",
      "2023-02-21 19:02:51,162 - Fetched TEI for ZND2BDA9\n",
      "2023-02-21 19:02:51,232 - Fetched TEI for 88WYQUHI\n",
      "2023-02-21 19:02:51,268 - Fetched TEI for XC42SU9U\n",
      "2023-02-21 19:02:51,296 - Fetched TEI for E7BCUEFG\n",
      "2023-02-21 19:02:51,309 - Fetched TEI for LGITZJAB\n",
      "2023-02-21 19:02:51,337 - Fetched TEI for JSXU3KSZ\n",
      "2023-02-21 19:02:51,354 - Fetched TEI for FSWQJUUN\n",
      "2023-02-21 19:02:51,372 - Fetched TEI for E629W3I7\n",
      "2023-02-21 19:02:51,470 - Fetched TEI for 2BNH3DVN\n",
      "2023-02-21 19:02:51,478 - Fetched TEI for 3TV4S292\n",
      "2023-02-21 19:02:51,507 - Fetched TEI for UUW4VAS2\n",
      "2023-02-21 19:02:51,514 - Fetched TEI for QNTUUHFW\n",
      "2023-02-21 19:02:51,546 - Fetched TEI for 8EBMGNIM\n",
      "2023-02-21 19:02:51,566 - Fetched TEI for 8NRDQZJX\n",
      "2023-02-21 19:02:51,600 - Fetched TEI for NQJ3F643\n",
      "2023-02-21 19:02:51,612 - Fetched TEI for W33JKAA9\n",
      "2023-02-21 19:02:51,616 - Fetched TEI for 48KMHNSI\n",
      "2023-02-21 19:02:51,667 - Fetched TEI for YFVNNVL7\n",
      "2023-02-21 19:02:51,693 - Fetched TEI for JYESWMQE\n",
      "2023-02-21 19:02:51,727 - Fetched TEI for 8E5CC9QJ\n",
      "2023-02-21 19:02:51,735 - Fetched TEI for EBJYZ3VH\n",
      "2023-02-21 19:02:51,776 - Fetched TEI for GV486RDV\n",
      "2023-02-21 19:02:51,779 - Fetched TEI for SAMRHZAZ\n",
      "2023-02-21 19:02:51,803 - Fetched TEI for QMB3Z6JB\n",
      "2023-02-21 19:02:51,872 - Fetched TEI for BGIBLRIC\n",
      "2023-02-21 19:02:51,904 - Fetched TEI for IIS2SV4G\n",
      "2023-02-21 19:02:51,929 - Fetched TEI for CNVNDEBJ\n",
      "2023-02-21 19:02:51,946 - Fetched TEI for MW2D8IGG\n",
      "2023-02-21 19:02:51,959 - Fetched TEI for 2BVDKB6C\n",
      "2023-02-21 19:02:51,982 - Fetched TEI for ZXPIVLU3\n",
      "2023-02-21 19:02:51,985 - Fetched TEI for JN345CZH\n",
      "2023-02-21 19:02:52,050 - Fetched TEI for LSDCZ4SZ\n",
      "2023-02-21 19:02:52,051 - Fetched TEI for 8F6BFEC2\n",
      "2023-02-21 19:02:52,070 - Fetched TEI for 93DABKLD\n",
      "2023-02-21 19:02:52,103 - Fetched TEI for VKTVHDB8\n",
      "2023-02-21 19:02:52,126 - Fetched TEI for 2MIYCKM3\n",
      "2023-02-21 19:02:52,172 - Fetched TEI for H6TUCJHG\n",
      "2023-02-21 19:02:52,183 - Fetched TEI for WQXHPEAN\n",
      "2023-02-21 19:02:52,222 - Fetched TEI for FKH9NAVZ\n",
      "2023-02-21 19:02:52,228 - Fetched TEI for BPWSNIY2\n",
      "2023-02-21 19:02:52,255 - Fetched TEI for NERFUGKS\n",
      "2023-02-21 19:02:52,333 - Fetched TEI for 4WU4EVID\n",
      "2023-02-21 19:02:52,350 - Fetched TEI for C2IPV5QD\n",
      "2023-02-21 19:02:52,382 - Fetched TEI for EKVBLT2P\n",
      "2023-02-21 19:02:52,386 - Fetched TEI for E3CV6PS7\n",
      "2023-02-21 19:02:52,407 - Fetched TEI for DZBYCJJY\n",
      "2023-02-21 19:02:52,424 - Fetched TEI for F895H93C\n",
      "2023-02-21 19:02:52,476 - Fetched TEI for 7IX2SSEM\n",
      "2023-02-21 19:02:52,481 - Fetched TEI for 4FZ9RCVG\n",
      "2023-02-21 19:02:52,518 - Fetched TEI for B6UV4FVI\n",
      "2023-02-21 19:02:52,535 - Fetched TEI for PBL27MRR\n",
      "2023-02-21 19:02:52,537 - Fetched TEI for 8AZQM5TY\n",
      "2023-02-21 19:02:52,589 - Fetched TEI for ADWLVH4J\n",
      "2023-02-21 19:02:52,602 - Fetched TEI for K4H7RGF8\n",
      "2023-02-21 19:02:52,621 - Fetched TEI for A28BJDFV\n",
      "2023-02-21 19:02:52,650 - Fetched TEI for NBCVXSJW\n",
      "2023-02-21 19:02:52,667 - Fetched TEI for A6G3DBGM\n",
      "2023-02-21 19:02:52,691 - Fetched TEI for SXL3EFUS\n",
      "2023-02-21 19:02:52,809 - Fetched TEI for VX2CAHEY\n",
      "2023-02-21 19:02:52,817 - Fetched TEI for E4FVCEXY\n",
      "2023-02-21 19:02:52,820 - Fetched TEI for UE3HR6BX\n",
      "2023-02-21 19:02:52,827 - Fetched TEI for KQYEN6M7\n",
      "2023-02-21 19:02:52,869 - Fetched TEI for H9B78EWW\n",
      "2023-02-21 19:02:52,918 - Fetched TEI for 4UAA38LR\n",
      "2023-02-21 19:02:52,930 - Fetched TEI for K795NTNQ\n",
      "2023-02-21 19:02:52,964 - Fetched TEI for 5L34XVHR\n",
      "2023-02-21 19:02:52,980 - Fetched TEI for KM2D4DUH\n",
      "2023-02-21 19:02:52,983 - Fetched TEI for IJZBHXHC\n",
      "2023-02-21 19:02:53,005 - Fetched TEI for PILIYN9F\n",
      "2023-02-21 19:02:53,028 - Fetched TEI for DS3V6N6F\n",
      "2023-02-21 19:02:53,063 - Fetched TEI for M9MX4IQX\n",
      "2023-02-21 19:02:53,068 - Fetched TEI for MRWBM7ME\n",
      "2023-02-21 19:02:53,074 - Fetched TEI for 3ACI3NWA\n",
      "2023-02-21 19:02:53,140 - Fetched TEI for 9GUTJ6LN\n",
      "2023-02-21 19:02:53,142 - Fetched TEI for GDMTP5XN\n",
      "2023-02-21 19:02:53,175 - Fetched TEI for 5D5EL6BF\n",
      "2023-02-21 19:02:53,246 - Fetched TEI for 5GKCGGGT\n",
      "2023-02-21 19:02:53,262 - Fetched TEI for T7ICZVDZ\n",
      "2023-02-21 19:02:53,299 - Fetched TEI for VDJTT7N2\n",
      "2023-02-21 19:02:53,318 - Fetched TEI for CKDKEVHT\n",
      "2023-02-21 19:02:53,384 - Fetched TEI for G5VKHV2S\n",
      "2023-02-21 19:02:53,402 - Fetched TEI for PMWI5L2R\n",
      "2023-02-21 19:02:53,418 - Fetched TEI for NKJYMNDU\n",
      "2023-02-21 19:02:53,424 - Fetched TEI for VNM5HTCK\n",
      "2023-02-21 19:02:53,451 - Fetched TEI for XE82QT6C\n",
      "2023-02-21 19:02:53,461 - Fetched TEI for LLS3FCM8\n",
      "2023-02-21 19:02:53,494 - Fetched TEI for FIFIPYS9\n",
      "2023-02-21 19:02:53,496 - Fetched TEI for 969VGCRZ\n",
      "2023-02-21 19:02:53,498 - Fetched TEI for MHUDSVFJ\n",
      "2023-02-21 19:02:53,583 - Fetched TEI for 9QJ2HXRF\n",
      "2023-02-21 19:02:53,603 - Fetched TEI for AQXGA889\n",
      "2023-02-21 19:02:53,624 - Fetched TEI for 29N7RMFW\n",
      "2023-02-21 19:02:53,646 - Fetched TEI for E67YDJ75\n",
      "2023-02-21 19:02:53,666 - Fetched TEI for Z9H6GGKK\n",
      "2023-02-21 19:02:53,691 - Fetched TEI for TCKD7Q2X\n",
      "2023-02-21 19:02:53,758 - Fetched TEI for 55YQXQ4F\n",
      "2023-02-21 19:02:53,782 - Fetched TEI for 7HHPF3H6\n",
      "2023-02-21 19:02:53,841 - Fetched TEI for 6HSTLS5K\n",
      "2023-02-21 19:02:53,855 - Fetched TEI for 8VX9XW4J\n",
      "2023-02-21 19:02:53,858 - Fetched TEI for WVA7EEN3\n",
      "2023-02-21 19:02:53,868 - Fetched TEI for 74UAJUUY\n",
      "2023-02-21 19:02:53,897 - Fetched TEI for 8S6CKNYY\n",
      "2023-02-21 19:02:53,911 - Fetched TEI for 8JHFUQHG\n",
      "2023-02-21 19:02:53,926 - Fetched TEI for QQFL9TGH\n",
      "2023-02-21 19:02:53,943 - Fetched TEI for CEJKVIKV\n",
      "2023-02-21 19:02:53,952 - Fetched TEI for Q79J6YVP\n",
      "2023-02-21 19:02:54,038 - Fetched TEI for 52EWDFAY\n",
      "2023-02-21 19:02:54,067 - Fetched TEI for U42ET8YG\n",
      "2023-02-21 19:02:54,069 - Fetched TEI for XH3FTLXM\n",
      "2023-02-21 19:02:54,095 - Fetched TEI for 9EULE83I\n",
      "2023-02-21 19:02:54,120 - Fetched TEI for D9HJLNZM\n",
      "2023-02-21 19:02:54,216 - Fetched TEI for 7R88QVU3\n",
      "2023-02-21 19:02:54,228 - Fetched TEI for G68XAWU7\n",
      "2023-02-21 19:02:54,283 - Fetched TEI for RTSB3578\n",
      "2023-02-21 19:02:54,295 - Fetched TEI for U7XA9ZTU\n",
      "2023-02-21 19:02:54,311 - Fetched TEI for 58GAXDBA\n",
      "2023-02-21 19:02:54,335 - Fetched TEI for 4XXYWKMB\n",
      "2023-02-21 19:02:54,342 - Fetched TEI for LLVEM62K\n",
      "2023-02-21 19:02:54,344 - Fetched TEI for RBXHNUWZ\n",
      "2023-02-21 19:02:54,370 - Fetched TEI for SI97G9YJ\n",
      "2023-02-21 19:02:54,373 - Fetched TEI for CG9NYLDG\n",
      "2023-02-21 19:02:54,381 - Fetched TEI for DTYRNPCF\n",
      "2023-02-21 19:02:54,473 - Fetched TEI for VIQYD46P\n",
      "2023-02-21 19:02:54,486 - Fetched TEI for AHPXQURP\n",
      "2023-02-21 19:02:54,491 - Fetched TEI for JUYHXI9H\n",
      "2023-02-21 19:02:54,526 - Fetched TEI for REGEWKEN\n",
      "2023-02-21 19:02:54,560 - Fetched TEI for V3K9NNMT\n",
      "2023-02-21 19:02:54,605 - Fetched TEI for ZMZNPVH5\n",
      "2023-02-21 19:02:54,675 - Fetched TEI for S37ENQSM\n",
      "2023-02-21 19:02:54,681 - Fetched TEI for NGK4FLL9\n",
      "2023-02-21 19:02:54,703 - Fetched TEI for IU7VW9R3\n",
      "2023-02-21 19:02:54,721 - Fetched TEI for 6EB2PETP\n",
      "2023-02-21 19:02:54,732 - Fetched TEI for PIYA7VKB\n",
      "2023-02-21 19:02:54,756 - Fetched TEI for UZARQZGV\n",
      "2023-02-21 19:02:54,770 - Fetched TEI for ARIBTNNW\n",
      "2023-02-21 19:02:54,777 - Fetched TEI for P32HBQ4A\n",
      "2023-02-21 19:02:54,812 - Fetched TEI for 8FUJQ2QM\n",
      "2023-02-21 19:02:54,818 - Fetched TEI for UR8WLRLF\n",
      "2023-02-21 19:02:54,905 - Fetched TEI for NJ7SLZC7\n",
      "2023-02-21 19:02:54,922 - Fetched TEI for UZHZ33D5\n",
      "2023-02-21 19:02:54,925 - Fetched TEI for MG96T3JJ\n",
      "2023-02-21 19:02:54,943 - Fetched TEI for GW24VT5F\n",
      "2023-02-21 19:02:54,990 - Fetched TEI for QJVE7UKJ\n",
      "2023-02-21 19:02:55,029 - Fetched TEI for CRZMNVB2\n",
      "2023-02-21 19:02:55,101 - Fetched TEI for HHX6JKDM\n",
      "2023-02-21 19:02:55,105 - Fetched TEI for 6VW5Z6NA\n",
      "2023-02-21 19:02:55,127 - Fetched TEI for 68H4ZNAC\n",
      "2023-02-21 19:02:55,139 - Fetched TEI for IUEK9RAD\n",
      "2023-02-21 19:02:55,155 - Fetched TEI for 4MRZJK95\n",
      "2023-02-21 19:02:55,173 - Fetched TEI for M3WTQF4W\n",
      "2023-02-21 19:02:55,175 - Fetched TEI for 86RT7N5L\n",
      "2023-02-21 19:02:55,196 - Fetched TEI for M5ZDZGT8\n",
      "2023-02-21 19:02:55,207 - Fetched TEI for JRFMMP9F\n",
      "2023-02-21 19:02:55,244 - Fetched TEI for 6BGIGGVN\n",
      "2023-02-21 19:02:55,265 - Fetched TEI for CG9W5RT6\n",
      "2023-02-21 19:02:55,346 - Fetched TEI for QTGIM2EC\n",
      "2023-02-21 19:02:55,382 - Fetched TEI for E3CIIGJS\n",
      "2023-02-21 19:02:55,390 - Fetched TEI for KW5J5DLM\n",
      "2023-02-21 19:02:55,434 - Fetched TEI for QSPTBVI4\n",
      "2023-02-21 19:02:55,468 - Fetched TEI for 3HPYRUIG\n",
      "2023-02-21 19:02:55,516 - Fetched TEI for PMXACLNH\n",
      "2023-02-21 19:02:55,555 - Fetched TEI for BZDLIILE\n",
      "2023-02-21 19:02:55,573 - Fetched TEI for GWHZQ6G6\n",
      "2023-02-21 19:02:55,591 - Fetched TEI for R5PXZ7WY\n",
      "2023-02-21 19:02:55,593 - Fetched TEI for 3HB7TCPK\n",
      "2023-02-21 19:02:55,600 - Fetched TEI for ERI2ICDV\n",
      "2023-02-21 19:02:55,625 - Fetched TEI for YG7KHFXA\n",
      "2023-02-21 19:02:55,627 - Fetched TEI for 93TTZQL9\n",
      "2023-02-21 19:02:55,629 - Fetched TEI for 73V9CH52\n",
      "2023-02-21 19:02:55,636 - Fetched TEI for 7GRATWEU\n",
      "2023-02-21 19:02:55,713 - Fetched TEI for UQCAAMWX\n",
      "2023-02-21 19:02:55,719 - Fetched TEI for 5NZJVZT2\n",
      "2023-02-21 19:02:55,783 - Fetched TEI for RD72JI9Y\n",
      "2023-02-21 19:02:55,820 - Fetched TEI for W9ELXEE6\n",
      "2023-02-21 19:02:55,822 - Fetched TEI for JULBFCQR\n",
      "2023-02-21 19:02:55,860 - Fetched TEI for MDN3C4TX\n",
      "2023-02-21 19:02:55,877 - Fetched TEI for 66TTKFAC\n",
      "2023-02-21 19:02:55,972 - Fetched TEI for KXH3E8HS\n",
      "2023-02-21 19:02:55,985 - Fetched TEI for SN4973IT\n",
      "2023-02-21 19:02:55,992 - Fetched TEI for YPRLMWJC\n",
      "2023-02-21 19:02:55,994 - Fetched TEI for VU664LND\n",
      "2023-02-21 19:02:56,033 - Fetched TEI for X2QFQMD9\n",
      "2023-02-21 19:02:56,037 - Fetched TEI for FPKIY7Y5\n",
      "2023-02-21 19:02:56,049 - Fetched TEI for HTDXH5EU\n",
      "2023-02-21 19:02:56,076 - Fetched TEI for 68NPCP4P\n",
      "2023-02-21 19:02:56,079 - Fetched TEI for AEUGUJ8K\n",
      "2023-02-21 19:02:56,085 - Fetched TEI for XTI7R77Q\n",
      "2023-02-21 19:02:56,103 - Fetched TEI for FN7CGGBR\n",
      "2023-02-21 19:02:56,142 - Fetched TEI for N3DHG7H6\n",
      "2023-02-21 19:02:56,157 - Fetched TEI for CJFVJ9RE\n",
      "2023-02-21 19:02:56,266 - Fetched TEI for ZIBEZC3Q\n",
      "2023-02-21 19:02:56,279 - Fetched TEI for 4WHT5FUN\n",
      "2023-02-21 19:02:56,291 - Fetched TEI for GVFMC92N\n",
      "2023-02-21 19:02:56,319 - Fetched TEI for ATRTW6ZN\n",
      "2023-02-21 19:02:56,325 - Fetched TEI for 4YZ23XLB\n",
      "2023-02-21 19:02:56,430 - Fetched TEI for HUWBDQ5P\n",
      "2023-02-21 19:02:56,433 - Fetched TEI for 3L2EAKBN\n",
      "2023-02-21 19:02:56,442 - Fetched TEI for TPTWN7PF\n",
      "2023-02-21 19:02:56,459 - Fetched TEI for HZ9NLRKF\n",
      "2023-02-21 19:02:56,473 - Fetched TEI for 5RE7X4W5\n",
      "2023-02-21 19:02:56,495 - Fetched TEI for LMIXL87M\n",
      "2023-02-21 19:02:56,497 - Fetched TEI for 3HYCPMZE\n",
      "2023-02-21 19:02:56,502 - Fetched TEI for TKE7FE72\n",
      "2023-02-21 19:02:56,526 - Fetched TEI for 2JQQSW26\n",
      "2023-02-21 19:02:56,550 - Fetched TEI for 25DM73YX\n",
      "2023-02-21 19:02:56,608 - Fetched TEI for MJXALQJE\n",
      "2023-02-21 19:02:56,616 - Fetched TEI for XNLHH4YT\n",
      "2023-02-21 19:02:56,700 - Fetched TEI for SUPZ2ED9\n",
      "2023-02-21 19:02:56,719 - Fetched TEI for SPW43AVJ\n",
      "2023-02-21 19:02:56,738 - Fetched TEI for ZA9VUR43\n",
      "2023-02-21 19:02:56,770 - Fetched TEI for FKULEZZ6\n",
      "2023-02-21 19:02:56,783 - Fetched TEI for TTWBN4JC\n",
      "2023-02-21 19:02:56,856 - Fetched TEI for GLSKPI6M\n",
      "2023-02-21 19:02:56,867 - Fetched TEI for M5R53PSP\n",
      "2023-02-21 19:02:56,869 - Fetched TEI for 5R2J8L4R\n",
      "2023-02-21 19:02:56,892 - Fetched TEI for 82828DKE\n",
      "2023-02-21 19:02:56,900 - Fetched TEI for JLBVCU8P\n",
      "2023-02-21 19:02:56,917 - Fetched TEI for 9AW5782P\n",
      "2023-02-21 19:02:56,940 - Fetched TEI for DIDHLZ94\n",
      "2023-02-21 19:02:56,984 - Fetched TEI for B87233HG\n",
      "2023-02-21 19:02:56,997 - Fetched TEI for Q28VCG93\n",
      "2023-02-21 19:02:57,009 - Fetched TEI for RSHQSSRN\n",
      "2023-02-21 19:02:57,037 - Fetched TEI for XX37TEDV\n",
      "2023-02-21 19:02:57,046 - Fetched TEI for 3EM6WR35\n",
      "2023-02-21 19:02:57,150 - Fetched TEI for JDBQV5ZA\n",
      "2023-02-21 19:02:57,170 - Fetched TEI for UBUNBJZH\n",
      "2023-02-21 19:02:57,209 - Fetched TEI for 8TFNC9N4\n",
      "2023-02-21 19:02:57,225 - Fetched TEI for HPRRCVVC\n",
      "2023-02-21 19:02:57,254 - Fetched TEI for QBXN6DED\n",
      "2023-02-21 19:02:57,280 - Fetched TEI for YLPTPP6T\n",
      "2023-02-21 19:02:57,287 - Fetched TEI for 6U78ZZVB\n",
      "2023-02-21 19:02:57,321 - Fetched TEI for XMU9ZR6K\n",
      "2023-02-21 19:02:57,324 - Fetched TEI for 7X8876D7\n",
      "2023-02-21 19:02:57,354 - Fetched TEI for AJUVVDYB\n",
      "2023-02-21 19:02:57,356 - Fetched TEI for CG324JCW\n",
      "2023-02-21 19:02:57,384 - Fetched TEI for 7IUUFEWI\n"
     ]
    },
    {
     "ename": "KeyboardInterrupt",
     "evalue": "",
     "output_type": "error",
     "traceback": [
      "\u001b[1;31m---------------------------------------------------------------------------\u001b[0m",
      "\u001b[1;31mKeyboardInterrupt\u001b[0m                         Traceback (most recent call last)",
      "Cell \u001b[1;32mIn[19], line 18\u001b[0m\n\u001b[0;32m     15\u001b[0m     \u001b[38;5;28;01masync\u001b[39;00m \u001b[38;5;28;01mwith\u001b[39;00m aiohttp\u001b[38;5;241m.\u001b[39mClientSession(connector\u001b[38;5;241m=\u001b[39mconn, timeout\u001b[38;5;241m=\u001b[39mtimeout) \u001b[38;5;28;01mas\u001b[39;00m session:\n\u001b[0;32m     16\u001b[0m         \u001b[38;5;28;01mawait\u001b[39;00m asyncio\u001b[38;5;241m.\u001b[39mgather(\u001b[38;5;241m*\u001b[39m[get_item_tei_from_group(item_id, session) \u001b[38;5;28;01mfor\u001b[39;00m item_id \u001b[38;5;129;01min\u001b[39;00m item_ids[:max_fetch]])\n\u001b[1;32m---> 18\u001b[0m \u001b[43masyncio\u001b[49m\u001b[38;5;241;43m.\u001b[39;49m\u001b[43mrun\u001b[49m\u001b[43m(\u001b[49m\u001b[43masync_download\u001b[49m\u001b[43m(\u001b[49m\u001b[43m)\u001b[49m\u001b[43m)\u001b[49m\n\u001b[0;32m     20\u001b[0m \u001b[38;5;28;01mwith\u001b[39;00m \u001b[38;5;28mopen\u001b[39m(\u001b[38;5;124m'\u001b[39m\u001b[38;5;124mTEI_export.xml\u001b[39m\u001b[38;5;124m'\u001b[39m, \u001b[38;5;124m'\u001b[39m\u001b[38;5;124mwb\u001b[39m\u001b[38;5;124m'\u001b[39m) \u001b[38;5;28;01mas\u001b[39;00m f:\n\u001b[0;32m     21\u001b[0m     ET\u001b[38;5;241m.\u001b[39mindent(template)\n",
      "File \u001b[1;32m~\\.virtualenvs\\vicav_zotero-3wR8ENkn\\lib\\site-packages\\nest_asyncio.py:35\u001b[0m, in \u001b[0;36m_patch_asyncio.<locals>.run\u001b[1;34m(main, debug)\u001b[0m\n\u001b[0;32m     33\u001b[0m task \u001b[38;5;241m=\u001b[39m asyncio\u001b[38;5;241m.\u001b[39mensure_future(main)\n\u001b[0;32m     34\u001b[0m \u001b[38;5;28;01mtry\u001b[39;00m:\n\u001b[1;32m---> 35\u001b[0m     \u001b[38;5;28;01mreturn\u001b[39;00m \u001b[43mloop\u001b[49m\u001b[38;5;241;43m.\u001b[39;49m\u001b[43mrun_until_complete\u001b[49m\u001b[43m(\u001b[49m\u001b[43mtask\u001b[49m\u001b[43m)\u001b[49m\n\u001b[0;32m     36\u001b[0m \u001b[38;5;28;01mfinally\u001b[39;00m:\n\u001b[0;32m     37\u001b[0m     \u001b[38;5;28;01mif\u001b[39;00m \u001b[38;5;129;01mnot\u001b[39;00m task\u001b[38;5;241m.\u001b[39mdone():\n",
      "File \u001b[1;32m~\\.virtualenvs\\vicav_zotero-3wR8ENkn\\lib\\site-packages\\nest_asyncio.py:84\u001b[0m, in \u001b[0;36m_patch_loop.<locals>.run_until_complete\u001b[1;34m(self, future)\u001b[0m\n\u001b[0;32m     82\u001b[0m     f\u001b[38;5;241m.\u001b[39m_log_destroy_pending \u001b[38;5;241m=\u001b[39m \u001b[38;5;28;01mFalse\u001b[39;00m\n\u001b[0;32m     83\u001b[0m \u001b[38;5;28;01mwhile\u001b[39;00m \u001b[38;5;129;01mnot\u001b[39;00m f\u001b[38;5;241m.\u001b[39mdone():\n\u001b[1;32m---> 84\u001b[0m     \u001b[38;5;28;43mself\u001b[39;49m\u001b[38;5;241;43m.\u001b[39;49m\u001b[43m_run_once\u001b[49m\u001b[43m(\u001b[49m\u001b[43m)\u001b[49m\n\u001b[0;32m     85\u001b[0m     \u001b[38;5;28;01mif\u001b[39;00m \u001b[38;5;28mself\u001b[39m\u001b[38;5;241m.\u001b[39m_stopping:\n\u001b[0;32m     86\u001b[0m         \u001b[38;5;28;01mbreak\u001b[39;00m\n",
      "File \u001b[1;32m~\\.virtualenvs\\vicav_zotero-3wR8ENkn\\lib\\site-packages\\nest_asyncio.py:107\u001b[0m, in \u001b[0;36m_patch_loop.<locals>._run_once\u001b[1;34m(self)\u001b[0m\n\u001b[0;32m    100\u001b[0m     heappop(scheduled)\n\u001b[0;32m    102\u001b[0m timeout \u001b[38;5;241m=\u001b[39m (\n\u001b[0;32m    103\u001b[0m     \u001b[38;5;241m0\u001b[39m \u001b[38;5;28;01mif\u001b[39;00m ready \u001b[38;5;129;01mor\u001b[39;00m \u001b[38;5;28mself\u001b[39m\u001b[38;5;241m.\u001b[39m_stopping\n\u001b[0;32m    104\u001b[0m     \u001b[38;5;28;01melse\u001b[39;00m \u001b[38;5;28mmin\u001b[39m(\u001b[38;5;28mmax\u001b[39m(\n\u001b[0;32m    105\u001b[0m         scheduled[\u001b[38;5;241m0\u001b[39m]\u001b[38;5;241m.\u001b[39m_when \u001b[38;5;241m-\u001b[39m \u001b[38;5;28mself\u001b[39m\u001b[38;5;241m.\u001b[39mtime(), \u001b[38;5;241m0\u001b[39m), \u001b[38;5;241m86400\u001b[39m) \u001b[38;5;28;01mif\u001b[39;00m scheduled\n\u001b[0;32m    106\u001b[0m     \u001b[38;5;28;01melse\u001b[39;00m \u001b[38;5;28;01mNone\u001b[39;00m)\n\u001b[1;32m--> 107\u001b[0m event_list \u001b[38;5;241m=\u001b[39m \u001b[38;5;28;43mself\u001b[39;49m\u001b[38;5;241;43m.\u001b[39;49m\u001b[43m_selector\u001b[49m\u001b[38;5;241;43m.\u001b[39;49m\u001b[43mselect\u001b[49m\u001b[43m(\u001b[49m\u001b[43mtimeout\u001b[49m\u001b[43m)\u001b[49m\n\u001b[0;32m    108\u001b[0m \u001b[38;5;28mself\u001b[39m\u001b[38;5;241m.\u001b[39m_process_events(event_list)\n\u001b[0;32m    110\u001b[0m end_time \u001b[38;5;241m=\u001b[39m \u001b[38;5;28mself\u001b[39m\u001b[38;5;241m.\u001b[39mtime() \u001b[38;5;241m+\u001b[39m \u001b[38;5;28mself\u001b[39m\u001b[38;5;241m.\u001b[39m_clock_resolution\n",
      "File \u001b[1;32m~\\AppData\\Local\\Programs\\Python\\Python310\\lib\\selectors.py:324\u001b[0m, in \u001b[0;36mSelectSelector.select\u001b[1;34m(self, timeout)\u001b[0m\n\u001b[0;32m    322\u001b[0m ready \u001b[38;5;241m=\u001b[39m []\n\u001b[0;32m    323\u001b[0m \u001b[38;5;28;01mtry\u001b[39;00m:\n\u001b[1;32m--> 324\u001b[0m     r, w, _ \u001b[38;5;241m=\u001b[39m \u001b[38;5;28;43mself\u001b[39;49m\u001b[38;5;241;43m.\u001b[39;49m\u001b[43m_select\u001b[49m\u001b[43m(\u001b[49m\u001b[38;5;28;43mself\u001b[39;49m\u001b[38;5;241;43m.\u001b[39;49m\u001b[43m_readers\u001b[49m\u001b[43m,\u001b[49m\u001b[43m \u001b[49m\u001b[38;5;28;43mself\u001b[39;49m\u001b[38;5;241;43m.\u001b[39;49m\u001b[43m_writers\u001b[49m\u001b[43m,\u001b[49m\u001b[43m \u001b[49m\u001b[43m[\u001b[49m\u001b[43m]\u001b[49m\u001b[43m,\u001b[49m\u001b[43m \u001b[49m\u001b[43mtimeout\u001b[49m\u001b[43m)\u001b[49m\n\u001b[0;32m    325\u001b[0m \u001b[38;5;28;01mexcept\u001b[39;00m \u001b[38;5;167;01mInterruptedError\u001b[39;00m:\n\u001b[0;32m    326\u001b[0m     \u001b[38;5;28;01mreturn\u001b[39;00m ready\n",
      "File \u001b[1;32m~\\AppData\\Local\\Programs\\Python\\Python310\\lib\\selectors.py:315\u001b[0m, in \u001b[0;36mSelectSelector._select\u001b[1;34m(self, r, w, _, timeout)\u001b[0m\n\u001b[0;32m    314\u001b[0m \u001b[38;5;28;01mdef\u001b[39;00m \u001b[38;5;21m_select\u001b[39m(\u001b[38;5;28mself\u001b[39m, r, w, _, timeout\u001b[38;5;241m=\u001b[39m\u001b[38;5;28;01mNone\u001b[39;00m):\n\u001b[1;32m--> 315\u001b[0m     r, w, x \u001b[38;5;241m=\u001b[39m \u001b[43mselect\u001b[49m\u001b[38;5;241;43m.\u001b[39;49m\u001b[43mselect\u001b[49m\u001b[43m(\u001b[49m\u001b[43mr\u001b[49m\u001b[43m,\u001b[49m\u001b[43m \u001b[49m\u001b[43mw\u001b[49m\u001b[43m,\u001b[49m\u001b[43m \u001b[49m\u001b[43mw\u001b[49m\u001b[43m,\u001b[49m\u001b[43m \u001b[49m\u001b[43mtimeout\u001b[49m\u001b[43m)\u001b[49m\n\u001b[0;32m    316\u001b[0m     \u001b[38;5;28;01mreturn\u001b[39;00m r, w \u001b[38;5;241m+\u001b[39m x, []\n",
      "\u001b[1;31mKeyboardInterrupt\u001b[0m: "
     ]
    }
   ],
   "source": [
    "errors = []\n",
    "max_fetch = limit_downloads_to if limit_downloads_to is not None else len(item_ids)\n",
    "logging.info(\"Fetching at most \" + str(max_fetch) + \" TEI/XML.\")\n",
    "async def get_item_tei_from_group(item_id, session):\n",
    "    bibl_struct = await get_item_tei(group_id, item_id, session)\n",
    "    if bibl_struct:\n",
    "        list_bibl.append(bibl_struct)\n",
    "    else:\n",
    "        logging.debug(\"Can not append \" + item_id)\n",
    "        errors.append(item_id)\n",
    "\n",
    "async def async_download():\n",
    "    conn = aiohttp.TCPConnector(limit=16)\n",
    "    timeout = aiohttp.ClientTimeout(total=600) # 10 min\n",
    "    async with aiohttp.ClientSession(connector=conn, timeout=timeout) as session:\n",
    "        await asyncio.gather(*[get_item_tei_from_group(item_id, session) for item_id in item_ids[:max_fetch]])\n",
    "\n",
    "asyncio.run(async_download())\n",
    "\n",
    "with open('TEI_export.xml', 'wb') as f:\n",
    "    ET.indent(template)\n",
    "    template.write(f, encoding='utf-8')\n",
    "    logging.info(\"TEI export done.\")\n",
    "\n",
    "# Export IDs of items with errors\n",
    "with open(\"errors.json\",\"w\") as f:\n",
    "    json.dump(errors, f)\n",
    "    logging.info(\"Exported errors.json.\")"
   ]
  },
  {
   "cell_type": "code",
   "execution_count": null,
   "metadata": {},
   "outputs": [],
   "source": []
  }
 ],
 "metadata": {
  "kernelspec": {
   "display_name": "Python 3 (ipykernel)",
   "language": "python",
   "name": "python3"
  },
  "language_info": {
   "codemirror_mode": {
    "name": "ipython",
    "version": 3
   },
   "file_extension": ".py",
   "mimetype": "text/x-python",
   "name": "python",
   "nbconvert_exporter": "python",
   "pygments_lexer": "ipython3",
   "version": "3.10.4"
  },
  "vscode": {
   "interpreter": {
    "hash": "aee8b7b246df8f9039afb4144a1f6fd8d2ca17a180786b69acc140d282b71a49"
   }
  }
 },
 "nbformat": 4,
 "nbformat_minor": 4
}
