{
 "cells": [
  {
   "cell_type": "markdown",
   "metadata": {},
   "source": [
    "# VICAV Bibliografie: Zotero Update"
   ]
  },
  {
   "cell_type": "code",
   "execution_count": null,
   "metadata": {},
   "outputs": [],
   "source": [
    "!ls"
   ]
  },
  {
   "cell_type": "markdown",
   "metadata": {},
   "source": [
    "## Parse TEI File and extract xml:ids and zotero-uris"
   ]
  },
  {
   "cell_type": "code",
   "execution_count": null,
   "metadata": {},
   "outputs": [],
   "source": [
    "tei_bibl_filename = \"vicav_biblio_tei_zotero.xml\""
   ]
  },
  {
   "cell_type": "code",
   "execution_count": null,
   "metadata": {},
   "outputs": [],
   "source": [
    "#import Package eTree to parse XML Files\n",
    "import xml.etree.ElementTree as ET"
   ]
  },
  {
   "cell_type": "code",
   "execution_count": null,
   "metadata": {},
   "outputs": [],
   "source": [
    "tei_bibl_file = ET.parse(tei_bibl_filename)\n",
    "TEI = tei_bibl_file.getroot()\n",
    "\n",
    "xmlns = {\"tei\": \"http://www.tei-c.org/ns/1.0\", \"xml\":\"http://www.w3.org/XML/1998/namespace\" }"
   ]
  },
  {
   "cell_type": "code",
   "execution_count": null,
   "metadata": {},
   "outputs": [],
   "source": [
    "#/TEI/text[1]/body[1]/listBibl[1]/biblStruct[1]\n",
    "bibls = TEI.findall(\"tei:text/tei:body/tei:listBibl/tei:biblStruct\", xmlns)"
   ]
  },
  {
   "cell_type": "code",
   "execution_count": null,
   "metadata": {},
   "outputs": [],
   "source": [
    "len(bibls)"
   ]
  },
  {
   "cell_type": "code",
   "execution_count": null,
   "metadata": {},
   "outputs": [],
   "source": [
    "bibl_data = []\n",
    "for bibl in bibls:\n",
    "    item = {}\n",
    "    item[\"zotero_url\"] = bibl.attrib['corresp']\n",
    "    item[\"xml_id\"] = bibl.get('{http://www.w3.org/XML/1998/namespace}id')\n",
    "    item[\"zotero_id\"] = item[\"zotero_url\"].split(\"/items/\")[1]\n",
    "    bibl_data.append(item)"
   ]
  },
  {
   "cell_type": "code",
   "execution_count": null,
   "metadata": {},
   "outputs": [],
   "source": [
    "len(bibl_data)"
   ]
  },
  {
   "cell_type": "code",
   "execution_count": null,
   "metadata": {},
   "outputs": [],
   "source": [
    "bibl_data[0]"
   ]
  },
  {
   "cell_type": "markdown",
   "metadata": {},
   "source": [
    "## Access Zotero-API"
   ]
  },
  {
   "cell_type": "code",
   "execution_count": null,
   "metadata": {},
   "outputs": [],
   "source": [
    "import requests\n",
    "import json"
   ]
  },
  {
   "cell_type": "code",
   "execution_count": null,
   "metadata": {},
   "outputs": [],
   "source": [
    "api_token = \"DQfd2PYuoDza5S0zMQdjzU6P\""
   ]
  },
  {
   "cell_type": "code",
   "execution_count": null,
   "metadata": {},
   "outputs": [],
   "source": [
    "#Group-id of Vicav library\n",
    "group_id = \"2165756\""
   ]
  },
  {
   "cell_type": "code",
   "execution_count": null,
   "metadata": {},
   "outputs": [],
   "source": [
    "#function to get the value of the \"extra\" field\n",
    "def get_extra_field(zotero_id):\n",
    "    request_url = \"https://api.zotero.org/groups/\" + group_id + \"/items/\" + zotero_id\n",
    "    response = requests.get(request_url)\n",
    "    if response.status_code == 200:\n",
    "        parsed = json.loads(response.text)\n",
    "        \n",
    "        extra = parsed[\"data\"][\"extra\"]\n",
    "        \n",
    "        if extra.startswith(\"(biblid:\"):\n",
    "            extra = extra.split(\"(biblid:\")[1].split(\")\")[0]\n",
    "    else: \n",
    "        extra = None        \n",
    "    \n",
    "    return extra"
   ]
  },
  {
   "cell_type": "code",
   "execution_count": null,
   "metadata": {},
   "outputs": [],
   "source": [
    "#test\n",
    "test_id = bibl_data[0][\"zotero_id\"]\n",
    "get_extra_field(test_id)"
   ]
  },
  {
   "cell_type": "code",
   "execution_count": null,
   "metadata": {},
   "outputs": [],
   "source": [
    "for item in bibl_data:\n",
    "    if \"biblid\" not in item:\n",
    "        extra = get_extra_field(item[\"zotero_id\"])\n",
    "        if extra != \"\":\n",
    "            item[\"biblid\"] = extra"
   ]
  },
  {
   "cell_type": "code",
   "execution_count": null,
   "metadata": {},
   "outputs": [],
   "source": [
    "bibl_data[4]"
   ]
  },
  {
   "cell_type": "code",
   "execution_count": null,
   "metadata": {},
   "outputs": [],
   "source": [
    "with_id = []\n",
    "for item in bibl_data:\n",
    "    if 'biblid' in item:\n",
    "        with_id.append(item) "
   ]
  },
  {
   "cell_type": "code",
   "execution_count": null,
   "metadata": {},
   "outputs": [],
   "source": [
    "len(with_id)"
   ]
  },
  {
   "cell_type": "code",
   "execution_count": null,
   "metadata": {},
   "outputs": [],
   "source": [
    "missing = []\n",
    "for item in bibl_data:\n",
    "    if 'biblid' not in item:\n",
    "        missing.append(item) "
   ]
  },
  {
   "cell_type": "code",
   "execution_count": null,
   "metadata": {},
   "outputs": [],
   "source": [
    "len(missing)"
   ]
  },
  {
   "cell_type": "code",
   "execution_count": null,
   "metadata": {},
   "outputs": [],
   "source": [
    "missing[76]"
   ]
  },
  {
   "cell_type": "code",
   "execution_count": null,
   "metadata": {},
   "outputs": [],
   "source": [
    "n = 0\n",
    "errors = []\n",
    "for item in missing:\n",
    "    print(str(n)+ \"/\" + str(len(missing)))\n",
    "    n = n+ 1\n",
    "    if \"biblid\" not in item:\n",
    "        extra = get_extra_field(item[\"zotero_id\"])\n",
    "        if extra != \"\":\n",
    "            item[\"biblid\"] = extra\n",
    "        else:\n",
    "            print(\"Problem with:\" + item[\"xml_id\"])\n",
    "            errors.append(item)"
   ]
  },
  {
   "cell_type": "code",
   "execution_count": null,
   "metadata": {},
   "outputs": [],
   "source": [
    "really_missing = []\n",
    "for item in missing:\n",
    "    if 'biblid' not in item:\n",
    "        really_missing.append(item) "
   ]
  },
  {
   "cell_type": "code",
   "execution_count": null,
   "metadata": {},
   "outputs": [],
   "source": [
    "len(really_missing)"
   ]
  },
  {
   "cell_type": "code",
   "execution_count": null,
   "metadata": {},
   "outputs": [],
   "source": [
    "really_missing[5]"
   ]
  },
  {
   "cell_type": "code",
   "execution_count": null,
   "metadata": {},
   "outputs": [],
   "source": [
    "for item in really_missing:\n",
    "    print(item[\"zotero_url\"])"
   ]
  },
  {
   "cell_type": "code",
   "execution_count": null,
   "metadata": {},
   "outputs": [],
   "source": [
    "#with open('bibl_data.json', 'w') as outfile:\n",
    "#    json.dump(bibl_data, outfile)"
   ]
  },
  {
   "cell_type": "markdown",
   "metadata": {},
   "source": [
    "## Read all items in the library"
   ]
  },
  {
   "cell_type": "code",
   "execution_count": null,
   "metadata": {},
   "outputs": [],
   "source": [
    "def get_items(group_id,limit,start):\n",
    "    request_url = \"https://api.zotero.org/groups/\" + group_id + \"/items/\" + \"?limit=\" + limit + \"&start=\" + start\n",
    "    response = requests.get(request_url)\n",
    "    if response.status_code == 200:\n",
    "        parsed = json.loads(response.text)\n",
    "        \n",
    "    return parsed\n",
    "\n",
    "## https://api.zotero.org/groups/2165756/items/"
   ]
  },
  {
   "cell_type": "code",
   "execution_count": null,
   "metadata": {},
   "outputs": [],
   "source": [
    "all_items=get_items(\"2165756\",\"20\",\"3\")"
   ]
  },
  {
   "cell_type": "code",
   "execution_count": null,
   "metadata": {},
   "outputs": [],
   "source": [
    "len(all_items)"
   ]
  },
  {
   "cell_type": "code",
   "execution_count": null,
   "metadata": {},
   "outputs": [],
   "source": [
    "def total_number_items(group_id):\n",
    "    request_url = \"https://api.zotero.org/groups/\" + group_id + \"/items/\"\n",
    "    response = requests.get(request_url)\n",
    "    \n",
    "    return response.headers[\"Total-Results\"]"
   ]
  },
  {
   "cell_type": "code",
   "execution_count": null,
   "metadata": {},
   "outputs": [],
   "source": [
    "total_number_items(\"2165756\")"
   ]
  },
  {
   "cell_type": "code",
   "execution_count": null,
   "metadata": {},
   "outputs": [],
   "source": [
    "def get_groupheaders(group_id):\n",
    "    request_url = \"https://api.zotero.org/groups/\" + group_id + \"/items/\"\n",
    "    response = requests.get(request_url)\n",
    "    \n",
    "    return response.headers\n",
    "    "
   ]
  },
  {
   "cell_type": "code",
   "execution_count": null,
   "metadata": {},
   "outputs": [],
   "source": [
    "get_groupheaders(\"2165756\")[\"Link\"].split('; rel=\"next\",')[0].replace(\"<\",\"\").replace(\">\",\"\")"
   ]
  },
  {
   "cell_type": "code",
   "execution_count": null,
   "metadata": {},
   "outputs": [],
   "source": [
    "limit=\"100\"\n",
    "start=\"101\"\n",
    "request_url = \"https://api.zotero.org/groups/\" + group_id + \"/items/\" + \"?limit=\" + limit + \"&start=\" + start\n",
    "request_url"
   ]
  },
  {
   "cell_type": "code",
   "execution_count": null,
   "metadata": {},
   "outputs": [],
   "source": [
    "def get_all_items(group_id):\n",
    "    items=[]\n",
    "    total_number=int(total_number_items(group_id))\n",
    "    turns=total_number/100\n",
    "    \n",
    "    return total_number,turns\n",
    "    \n",
    "    \n",
    "    #request_url = \"https://api.zotero.org/groups/\" + group_id + \"/items/\"\n",
    "    #response = requests.get(request_url)\n",
    "    "
   ]
  },
  {
   "cell_type": "code",
   "execution_count": null,
   "metadata": {},
   "outputs": [],
   "source": [
    "get_all_items(\"2165756\")"
   ]
  },
  {
   "cell_type": "markdown",
   "metadata": {
    "collapsed": true
   },
   "source": [
    "# need to read again"
   ]
  },
  {
   "cell_type": "code",
   "execution_count": null,
   "metadata": {},
   "outputs": [],
   "source": [
    "#read backup file\n",
    "\n",
    "with open('bibl_data.json', 'r') as infile:\n",
    "    bibl_data = json.load(infile)\n",
    "\n",
    "len(bibl_data)"
   ]
  },
  {
   "cell_type": "code",
   "execution_count": null,
   "metadata": {},
   "outputs": [],
   "source": [
    "bibl_data[0]"
   ]
  },
  {
   "cell_type": "code",
   "execution_count": null,
   "metadata": {},
   "outputs": [],
   "source": [
    "missing = []\n",
    "for item in bibl_data:\n",
    "    if 'biblid' not in item:\n",
    "        missing.append(item) "
   ]
  },
  {
   "cell_type": "code",
   "execution_count": null,
   "metadata": {},
   "outputs": [],
   "source": [
    "len(missing)"
   ]
  },
  {
   "cell_type": "code",
   "execution_count": null,
   "metadata": {},
   "outputs": [],
   "source": [
    "missing[0]"
   ]
  },
  {
   "cell_type": "code",
   "execution_count": null,
   "metadata": {},
   "outputs": [],
   "source": [
    "import re\n",
    "import random"
   ]
  },
  {
   "cell_type": "code",
   "execution_count": null,
   "metadata": {},
   "outputs": [],
   "source": [
    "def id_to_biblid(xml_id:str):\n",
    "    m = re.search('(\\w*)([0-9]{4})(\\w?)', xml_id)\n",
    "    name = m.group(1)\n",
    "    year = m.group(2)\n",
    "    suffix = m.group(3)\n",
    "    #print(\"Name: \" + name + \" Year: \" + year + \" Suffix: \" + suffix )\n",
    "    r = random.randint(1,9999)\n",
    "    randnr = \"%04d\" % r\n",
    "    new_id = name.lower() + \"_\" + year + \"_\" + randnr\n",
    "    return new_id"
   ]
  },
  {
   "cell_type": "code",
   "execution_count": null,
   "metadata": {},
   "outputs": [],
   "source": [
    "#test\n",
    "testid = missing[0][\"xml_id\"] \n",
    "id_to_biblid(testid)"
   ]
  },
  {
   "cell_type": "code",
   "execution_count": null,
   "metadata": {},
   "outputs": [],
   "source": [
    "#uris MUST use https://"
   ]
  },
  {
   "cell_type": "code",
   "execution_count": null,
   "metadata": {},
   "outputs": [],
   "source": [
    "#https://api.zotero.org/groups/2165756/items/G2MMP7G2"
   ]
  },
  {
   "cell_type": "code",
   "execution_count": null,
   "metadata": {},
   "outputs": [],
   "source": [
    "api_token = \"DQfd2PYuoDza5S0zMQdjzU6P\"\n",
    "headers = {'Authorization': 'Bearer ' + api_token}"
   ]
  },
  {
   "cell_type": "code",
   "execution_count": null,
   "metadata": {},
   "outputs": [],
   "source": [
    "# Function to update zotero-item\n",
    "\n",
    "def update_zotero_extra_in_item(group_id:str, item_id:str, extra:str):\n",
    "    #test_url = \"https://api.zotero.org/groups/4669401/items/P4TV9RFP\"\n",
    "    \n",
    "    url = \"https://api.zotero.org/groups/\" + group_id + \"/items/\" + item_id\n",
    "    response = requests.get(url, headers=headers)\n",
    "    if response.status_code == 200:\n",
    "        parsed = json.loads(response.text)\n",
    "        \n",
    "        if \"extra\" in parsed[\"data\"]:\n",
    "            old_extra_val = parsed[\"data\"][\"extra\"]\n",
    "            #print(\"Existing 'extra' field value was: \" + old_extra_val)\n",
    "            \n",
    "            #updating\n",
    "            parsed[\"data\"][\"extra\"] = extra\n",
    "            \n",
    "            update = requests.put(url, headers=headers, json=parsed)\n",
    "            if update.status_code == 204:\n",
    "                #everything worked\n",
    "                #return True as idicator, that everything worked as expected, and the old \"extra\" value (could be stored somewhere for safe-keeping)\n",
    "                return [True,old_extra_val]\n",
    "            else:\n",
    "                print(\"Error when updating item. Status code:\" + str(update.status_code))\n",
    "        \n",
    "    else:\n",
    "        print(\"Error when getting item. Status code: \" + str(response.status_code))    \n",
    "    "
   ]
  },
  {
   "cell_type": "code",
   "execution_count": null,
   "metadata": {},
   "outputs": [],
   "source": [
    "missing[0]"
   ]
  },
  {
   "cell_type": "code",
   "execution_count": null,
   "metadata": {},
   "outputs": [],
   "source": [
    "#vicav group\n",
    "group_id"
   ]
  },
  {
   "cell_type": "code",
   "execution_count": null,
   "metadata": {},
   "outputs": [],
   "source": [
    "#working example\n",
    "testitem = missing[0]\n",
    "testid = missing[0][\"xml_id\"]\n",
    "item_id = testitem[\"zotero_id\"]\n",
    "new_id = id_to_biblid(testid)\n",
    "new_extra = \"(\" + \"biblid:\" + new_id + \")\"\n",
    "print(new_extra)\n",
    "#group_id\n",
    "updated = update_zotero_extra_in_item(group_id, item_id, new_extra)\n",
    "updated"
   ]
  },
  {
   "cell_type": "code",
   "execution_count": null,
   "metadata": {},
   "outputs": [],
   "source": [
    "for item in missing:\n",
    "    print(\"Updating \" + item[\"xml_id\"])\n",
    "    try:\n",
    "        new_id = id_to_biblid(item[\"xml_id\"])\n",
    "    except:\n",
    "        new_id = None\n",
    "        print(\"error to generate id: \" + item[\"xml_id\"])\n",
    "    \n",
    "    if new_id != None:\n",
    "        new_extra = \"(\" + \"biblid:\" + new_id + \")\"\n",
    "        item[\"biblid\"] = new_id\n",
    "        updated = update_zotero_extra_in_item(group_id, item[\"zotero_id\"], new_extra)\n",
    "        item[\"updated\"] = updated[0]\n",
    "        item[\"old_extra_val\"] = updated[1]"
   ]
  },
  {
   "cell_type": "code",
   "execution_count": null,
   "metadata": {},
   "outputs": [],
   "source": [
    "missing[4]"
   ]
  },
  {
   "cell_type": "code",
   "execution_count": null,
   "metadata": {},
   "outputs": [],
   "source": [
    "missing[0]"
   ]
  },
  {
   "cell_type": "code",
   "execution_count": null,
   "metadata": {},
   "outputs": [],
   "source": []
  }
 ],
 "metadata": {
  "kernelspec": {
   "display_name": "Python 3",
   "language": "python",
   "name": "python3"
  },
  "language_info": {
   "codemirror_mode": {
    "name": "ipython",
    "version": 3
   },
   "file_extension": ".py",
   "mimetype": "text/x-python",
   "name": "python",
   "nbconvert_exporter": "python",
   "pygments_lexer": "ipython3",
   "version": "3.8.8"
  }
 },
 "nbformat": 4,
 "nbformat_minor": 2
}
